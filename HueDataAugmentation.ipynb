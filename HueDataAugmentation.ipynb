{
 "cells": [
  {
   "cell_type": "markdown",
   "metadata": {},
   "source": [
    "# Version IV - Hue data augmentation"
   ]
  },
  {
   "cell_type": "markdown",
   "metadata": {},
   "source": [
    "### Imports and initial setup"
   ]
  },
  {
   "cell_type": "code",
   "execution_count": 1,
   "metadata": {},
   "outputs": [
    {
     "name": "stdout",
     "output_type": "stream",
     "text": [
      "importing Jupyter notebook from InitialSetup.ipynb\n",
      "Num GPUs Available:  1\n",
      "Total images in validatation dataset:  12630\n",
      "(32, 32, 3) (43,)\n",
      "Total images in dataset:  39209\n"
     ]
    }
   ],
   "source": [
    "import import_ipynb\n",
    "\n",
    "from InitialSetup import dataset, BATCH_SIZE, tf, prepare_callbacks, model_VI, show_history, test_dataset, AUTOTUNE, process_hue"
   ]
  },
  {
   "cell_type": "code",
   "execution_count": 2,
   "metadata": {},
   "outputs": [],
   "source": [
    "dataSoloV4 = dataset\n",
    "dataSoloV4 = dataSoloV4.concatenate(dataSoloV4.map(process_hue))\n",
    "\n",
    "dataSoloV4_size = tf.data.experimental.cardinality(dataSoloV4).numpy()\n",
    "\n",
    "dataSoloV4 = dataSoloV4.cache()\n",
    "dataSoloV4 = dataSoloV4.shuffle(buffer_size = dataSoloV4_size)\n",
    "dataSoloV4 = dataSoloV4.batch(batch_size = BATCH_SIZE)\n",
    "dataSoloV4 = dataSoloV4.prefetch(buffer_size = AUTOTUNE)\n",
    "dataSoloV4 = dataSoloV4.repeat()\n",
    "\n",
    "train_size = int(0.8* dataSoloV4_size)\n",
    "val_size = int(0.2* dataSoloV4_size)\n",
    "\n",
    "train_dataset = dataSoloV4.take(train_size)\n",
    "val_dataset = dataSoloV4.skip(train_size)"
   ]
  },
  {
   "cell_type": "markdown",
   "metadata": {},
   "source": [
    "### Setup model and save place"
   ]
  },
  {
   "cell_type": "code",
   "execution_count": 3,
   "metadata": {},
   "outputs": [],
   "source": [
    "modelV4 = model_VI(43, 32, 3)\n",
    "\n",
    "file_pathV4 = './Networks/HueDataAugmentation.ckpt'\n",
    "\n",
    "callbacksV4 = prepare_callbacks(file_pathV4)"
   ]
  },
  {
   "cell_type": "markdown",
   "metadata": {},
   "source": [
    "### Train model"
   ]
  },
  {
   "cell_type": "code",
   "execution_count": 4,
   "metadata": {
    "tags": []
   },
   "outputs": [
    {
     "name": "stdout",
     "output_type": "stream",
     "text": [
      "Epoch 1/20\n",
      "980/980 [==============================] - 46s 29ms/step - loss: 2.7960 - accuracy: 0.3080 - val_loss: 0.2320 - val_accuracy: 0.9404\n",
      "\n",
      "Epoch 00001: val_accuracy improved from -inf to 0.94036, saving model to ./Networks\\HueDataAugmentation.ckpt\n",
      "Epoch 2/20\n",
      "980/980 [==============================] - 29s 30ms/step - loss: 0.4525 - accuracy: 0.8636 - val_loss: 0.0515 - val_accuracy: 0.9875\n",
      "\n",
      "Epoch 00002: val_accuracy improved from 0.94036 to 0.98749, saving model to ./Networks\\HueDataAugmentation.ckpt\n",
      "Epoch 3/20\n",
      "980/980 [==============================] - 29s 30ms/step - loss: 0.1827 - accuracy: 0.9453 - val_loss: 0.0265 - val_accuracy: 0.9934\n",
      "\n",
      "Epoch 00003: val_accuracy improved from 0.98749 to 0.99339, saving model to ./Networks\\HueDataAugmentation.ckpt\n",
      "Epoch 4/20\n",
      "980/980 [==============================] - 29s 30ms/step - loss: 0.1066 - accuracy: 0.9673 - val_loss: 0.0136 - val_accuracy: 0.9968\n",
      "\n",
      "Epoch 00004: val_accuracy improved from 0.99339 to 0.99682, saving model to ./Networks\\HueDataAugmentation.ckpt\n",
      "Epoch 5/20\n",
      "980/980 [==============================] - 29s 29ms/step - loss: 0.0694 - accuracy: 0.9801 - val_loss: 0.0100 - val_accuracy: 0.9976\n",
      "\n",
      "Epoch 00005: val_accuracy improved from 0.99682 to 0.99759, saving model to ./Networks\\HueDataAugmentation.ckpt\n",
      "Epoch 6/20\n",
      "980/980 [==============================] - 29s 30ms/step - loss: 0.0453 - accuracy: 0.9860 - val_loss: 0.0073 - val_accuracy: 0.9987\n",
      "\n",
      "Epoch 00006: val_accuracy improved from 0.99759 to 0.99873, saving model to ./Networks\\HueDataAugmentation.ckpt\n",
      "Epoch 7/20\n",
      "980/980 [==============================] - 29s 30ms/step - loss: 0.0391 - accuracy: 0.9890 - val_loss: 0.0047 - val_accuracy: 0.9985\n",
      "\n",
      "Epoch 00007: val_accuracy did not improve from 0.99873\n",
      "Epoch 8/20\n",
      "980/980 [==============================] - 29s 30ms/step - loss: 0.0319 - accuracy: 0.9906 - val_loss: 0.0029 - val_accuracy: 0.9996\n",
      "\n",
      "Epoch 00008: val_accuracy improved from 0.99873 to 0.99956, saving model to ./Networks\\HueDataAugmentation.ckpt\n",
      "Epoch 9/20\n",
      "980/980 [==============================] - 29s 29ms/step - loss: 0.0257 - accuracy: 0.9914 - val_loss: 0.0021 - val_accuracy: 0.9996\n",
      "\n",
      "Epoch 00009: val_accuracy did not improve from 0.99956\n",
      "Epoch 10/20\n",
      "980/980 [==============================] - 28s 29ms/step - loss: 0.0195 - accuracy: 0.9942 - val_loss: 0.0027 - val_accuracy: 0.9994\n",
      "\n",
      "Epoch 00010: val_accuracy did not improve from 0.99956\n",
      "Epoch 11/20\n",
      "980/980 [==============================] - 28s 29ms/step - loss: 0.0169 - accuracy: 0.9944 - val_loss: 0.0014 - val_accuracy: 0.9997\n",
      "\n",
      "Epoch 00011: val_accuracy improved from 0.99956 to 0.99968, saving model to ./Networks\\HueDataAugmentation.ckpt\n",
      "Epoch 12/20\n",
      "980/980 [==============================] - 28s 29ms/step - loss: 0.0172 - accuracy: 0.9943 - val_loss: 7.9732e-04 - val_accuracy: 0.9999\n",
      "\n",
      "Epoch 00012: val_accuracy improved from 0.99968 to 0.99987, saving model to ./Networks\\HueDataAugmentation.ckpt\n",
      "Epoch 13/20\n",
      "980/980 [==============================] - 28s 29ms/step - loss: 0.0136 - accuracy: 0.9955 - val_loss: 3.4445e-04 - val_accuracy: 1.0000\n",
      "\n",
      "Epoch 00013: val_accuracy improved from 0.99987 to 1.00000, saving model to ./Networks\\HueDataAugmentation.ckpt\n",
      "Epoch 14/20\n",
      "980/980 [==============================] - 29s 30ms/step - loss: 0.0117 - accuracy: 0.9962 - val_loss: 0.0015 - val_accuracy: 0.9997\n",
      "\n",
      "Epoch 00014: val_accuracy did not improve from 1.00000\n",
      "Epoch 15/20\n",
      "980/980 [==============================] - 29s 29ms/step - loss: 0.0095 - accuracy: 0.9968 - val_loss: 3.8885e-04 - val_accuracy: 0.9999\n",
      "\n",
      "Epoch 00015: val_accuracy did not improve from 1.00000\n",
      "Epoch 16/20\n",
      "980/980 [==============================] - 29s 30ms/step - loss: 0.0087 - accuracy: 0.9971 - val_loss: 2.3711e-04 - val_accuracy: 0.9999\n",
      "\n",
      "Epoch 00016: val_accuracy did not improve from 1.00000\n",
      "Epoch 17/20\n",
      "980/980 [==============================] - 29s 29ms/step - loss: 0.0098 - accuracy: 0.9967 - val_loss: 2.1989e-04 - val_accuracy: 1.0000\n",
      "\n",
      "Epoch 00017: val_accuracy did not improve from 1.00000\n",
      "Epoch 18/20\n",
      "980/980 [==============================] - 28s 29ms/step - loss: 0.0067 - accuracy: 0.9979 - val_loss: 6.6977e-04 - val_accuracy: 1.0000\n",
      "\n",
      "Epoch 00018: val_accuracy did not improve from 1.00000\n",
      "Epoch 19/20\n",
      "980/980 [==============================] - 28s 29ms/step - loss: 0.0080 - accuracy: 0.9974 - val_loss: 2.6962e-04 - val_accuracy: 1.0000\n",
      "\n",
      "Epoch 00019: val_accuracy did not improve from 1.00000\n",
      "Epoch 20/20\n",
      "980/980 [==============================] - 28s 29ms/step - loss: 0.0069 - accuracy: 0.9979 - val_loss: 0.0013 - val_accuracy: 0.9999\n",
      "\n",
      "Epoch 00020: val_accuracy did not improve from 1.00000\n"
     ]
    }
   ],
   "source": [
    "historyV4 = modelV4.fit(train_dataset, steps_per_epoch = train_size/BATCH_SIZE,\n",
    "          epochs=20, \n",
    "          validation_data = val_dataset, \n",
    "          validation_steps = val_size/BATCH_SIZE,\n",
    "          callbacks = callbacksV4)"
   ]
  },
  {
   "cell_type": "markdown",
   "metadata": {},
   "source": [
    "### Show the learning history"
   ]
  },
  {
   "cell_type": "code",
   "execution_count": 5,
   "metadata": {},
   "outputs": [
    {
     "name": "stdout",
     "output_type": "stream",
     "text": [
      "dict_keys(['loss', 'accuracy', 'val_loss', 'val_accuracy', 'lr'])\n"
     ]
    },
    {
     "data": {
      "image/png": "[encoded data removed]",
      "text/plain": [
       "<Figure size 432x288 with 1 Axes>"
      ]
     },
     "metadata": {
      "needs_background": "light"
     },
     "output_type": "display_data"
    },
    {
     "data": {
      "image/png": "[encoded data removed]",
      "text/plain": [
       "<Figure size 432x288 with 1 Axes>"
      ]
     },
     "metadata": {
      "needs_background": "light"
     },
     "output_type": "display_data"
    }
   ],
   "source": [
    "show_history(historyV4)"
   ]
  },
  {
   "cell_type": "markdown",
   "metadata": {},
   "source": [
    "### Load weights from file and test with validation and test dataset"
   ]
  },
  {
   "cell_type": "code",
   "execution_count": 6,
   "metadata": {
    "tags": []
   },
   "outputs": [
    {
     "name": "stdout",
     "output_type": "stream",
     "text": [
      "198/198 - 3s - loss: 0.0560 - accuracy: 0.9850\n",
      "245/245 - 10s - loss: 4.4225e-04 - accuracy: 1.0000\n"
     ]
    }
   ],
   "source": [
    "modelV4.load_weights(file_pathV4)\n",
    "\n",
    "evalV4 = modelV4.evaluate(test_dataset, verbose=2)\n",
    "valV4 = modelV4.evaluate(val_dataset, steps=val_size/BATCH_SIZE, verbose=2)"
   ]
  }
 ],
 "metadata": {
  "interpreter": {
   "hash": "d0da461f411a8ab525eeaf0c070efcfd41d80a0fa07fe716f6def51d18e38691"
  },
  "kernelspec": {
   "display_name": "Python 3.8.0 ('tf_gpu')",
   "language": "python",
   "name": "python3"
  },
  "language_info": {
   "codemirror_mode": {
    "name": "ipython",
    "version": 3
   },
   "file_extension": ".py",
   "mimetype": "text/x-python",
   "name": "python",
   "nbconvert_exporter": "python",
   "pygments_lexer": "ipython3",
   "version": "3.8.0"
  },
  "orig_nbformat": 4
 },
 "nbformat": 4,
 "nbformat_minor": 2
}
