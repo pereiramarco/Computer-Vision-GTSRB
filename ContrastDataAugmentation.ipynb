{
 "cells": [
  {
   "cell_type": "markdown",
   "metadata": {},
   "source": [
    "# Version IV - Contrast data augmentation"
   ]
  },
  {
   "cell_type": "markdown",
   "metadata": {},
   "source": [
    "### Imports and initial setup"
   ]
  },
  {
   "cell_type": "code",
   "execution_count": 1,
   "metadata": {},
   "outputs": [
    {
     "name": "stdout",
     "output_type": "stream",
     "text": [
      "importing Jupyter notebook from InitialSetup.ipynb\n",
      "Num GPUs Available:  1\n",
      "Total images in validatation dataset:  12630\n",
      "(32, 32, 3) (43,)\n",
      "Total images in dataset:  39209\n"
     ]
    }
   ],
   "source": [
    "import import_ipynb\n",
    "\n",
    "from InitialSetup import dataset, BATCH_SIZE, tf, prepare_callbacks, model_VI, show_history, test_dataset, AUTOTUNE, process_contrast"
   ]
  },
  {
   "cell_type": "code",
   "execution_count": 2,
   "metadata": {},
   "outputs": [],
   "source": [
    "dataSoloV4 = dataset\n",
    "dataSoloV4 = dataSoloV4.concatenate(dataSoloV4.map(process_contrast))\n",
    "\n",
    "dataSoloV4_size = tf.data.experimental.cardinality(dataSoloV4).numpy()\n",
    "\n",
    "dataSoloV4 = dataSoloV4.cache()\n",
    "dataSoloV4 = dataSoloV4.shuffle(buffer_size = dataSoloV4_size)\n",
    "dataSoloV4 = dataSoloV4.batch(batch_size = BATCH_SIZE)\n",
    "dataSoloV4 = dataSoloV4.prefetch(buffer_size = AUTOTUNE)\n",
    "dataSoloV4 = dataSoloV4.repeat()\n",
    "\n",
    "train_size = int(0.8* dataSoloV4_size)\n",
    "val_size = int(0.2* dataSoloV4_size)\n",
    "\n",
    "train_dataset = dataSoloV4.take(train_size)\n",
    "val_dataset = dataSoloV4.skip(train_size)"
   ]
  },
  {
   "cell_type": "markdown",
   "metadata": {},
   "source": [
    "### Setup model and save place"
   ]
  },
  {
   "cell_type": "code",
   "execution_count": 3,
   "metadata": {},
   "outputs": [],
   "source": [
    "modelV4 = model_VI(43, 32, 3)\n",
    "\n",
    "file_pathV4 = './Networks/ContrastDataAugmentation.ckpt'\n",
    "\n",
    "callbacksV4 = prepare_callbacks(file_pathV4)"
   ]
  },
  {
   "cell_type": "markdown",
   "metadata": {},
   "source": [
    "### Train model"
   ]
  },
  {
   "cell_type": "code",
   "execution_count": 4,
   "metadata": {
    "tags": []
   },
   "outputs": [
    {
     "name": "stdout",
     "output_type": "stream",
     "text": [
      "Epoch 1/20\n",
      "980/980 [==============================] - 43s 27ms/step - loss: 2.7977 - accuracy: 0.3094 - val_loss: 0.2952 - val_accuracy: 0.9207\n",
      "\n",
      "Epoch 00001: val_accuracy improved from -inf to 0.92067, saving model to ./Networks\\ContrastDataAugmentation.ckpt\n",
      "Epoch 2/20\n",
      "980/980 [==============================] - 27s 27ms/step - loss: 0.5301 - accuracy: 0.8405 - val_loss: 0.0923 - val_accuracy: 0.9764\n",
      "\n",
      "Epoch 00002: val_accuracy improved from 0.92067 to 0.97637, saving model to ./Networks\\ContrastDataAugmentation.ckpt\n",
      "Epoch 3/20\n",
      "980/980 [==============================] - 26s 27ms/step - loss: 0.2480 - accuracy: 0.9283 - val_loss: 0.0616 - val_accuracy: 0.9851\n",
      "\n",
      "Epoch 00003: val_accuracy improved from 0.97637 to 0.98507, saving model to ./Networks\\ContrastDataAugmentation.ckpt\n",
      "Epoch 4/20\n",
      "980/980 [==============================] - 26s 27ms/step - loss: 0.1523 - accuracy: 0.9567 - val_loss: 0.0365 - val_accuracy: 0.9918\n",
      "\n",
      "Epoch 00004: val_accuracy improved from 0.98507 to 0.99181, saving model to ./Networks\\ContrastDataAugmentation.ckpt\n",
      "Epoch 5/20\n",
      "980/980 [==============================] - 26s 27ms/step - loss: 0.1140 - accuracy: 0.9664 - val_loss: 0.0297 - val_accuracy: 0.9926\n",
      "\n",
      "Epoch 00005: val_accuracy improved from 0.99181 to 0.99263, saving model to ./Networks\\ContrastDataAugmentation.ckpt\n",
      "Epoch 6/20\n",
      "980/980 [==============================] - 27s 27ms/step - loss: 0.0860 - accuracy: 0.9744 - val_loss: 0.0221 - val_accuracy: 0.9943\n",
      "\n",
      "Epoch 00006: val_accuracy improved from 0.99263 to 0.99435, saving model to ./Networks\\ContrastDataAugmentation.ckpt\n",
      "Epoch 7/20\n",
      "980/980 [==============================] - 26s 27ms/step - loss: 0.0731 - accuracy: 0.9786 - val_loss: 0.0180 - val_accuracy: 0.9955\n",
      "\n",
      "Epoch 00007: val_accuracy improved from 0.99435 to 0.99549, saving model to ./Networks\\ContrastDataAugmentation.ckpt\n",
      "Epoch 8/20\n",
      "980/980 [==============================] - 26s 27ms/step - loss: 0.0594 - accuracy: 0.9818 - val_loss: 0.0162 - val_accuracy: 0.9963\n",
      "\n",
      "Epoch 00008: val_accuracy improved from 0.99549 to 0.99625, saving model to ./Networks\\ContrastDataAugmentation.ckpt\n",
      "Epoch 9/20\n",
      "980/980 [==============================] - 27s 28ms/step - loss: 0.0520 - accuracy: 0.9847 - val_loss: 0.0145 - val_accuracy: 0.9966\n",
      "\n",
      "Epoch 00009: val_accuracy improved from 0.99625 to 0.99663, saving model to ./Networks\\ContrastDataAugmentation.ckpt\n",
      "Epoch 10/20\n",
      "980/980 [==============================] - 30s 31ms/step - loss: 0.0463 - accuracy: 0.9859 - val_loss: 0.0172 - val_accuracy: 0.9959\n",
      "\n",
      "Epoch 00010: val_accuracy did not improve from 0.99663\n",
      "Epoch 11/20\n",
      "980/980 [==============================] - 27s 27ms/step - loss: 0.0368 - accuracy: 0.9888 - val_loss: 0.0156 - val_accuracy: 0.9959\n",
      "\n",
      "Epoch 00011: val_accuracy did not improve from 0.99663\n",
      "Epoch 12/20\n",
      "980/980 [==============================] - 27s 28ms/step - loss: 0.0380 - accuracy: 0.9885 - val_loss: 0.0428 - val_accuracy: 0.9917\n",
      "\n",
      "Epoch 00012: val_accuracy did not improve from 0.99663\n",
      "Epoch 13/20\n",
      "980/980 [==============================] - 27s 27ms/step - loss: 0.0366 - accuracy: 0.9888 - val_loss: 0.0105 - val_accuracy: 0.9978\n",
      "\n",
      "Epoch 00013: val_accuracy improved from 0.99663 to 0.99784, saving model to ./Networks\\ContrastDataAugmentation.ckpt\n",
      "Epoch 14/20\n",
      "980/980 [==============================] - 27s 28ms/step - loss: 0.0291 - accuracy: 0.9915 - val_loss: 0.0074 - val_accuracy: 0.9980\n",
      "\n",
      "Epoch 00014: val_accuracy improved from 0.99784 to 0.99803, saving model to ./Networks\\ContrastDataAugmentation.ckpt\n",
      "Epoch 15/20\n",
      "980/980 [==============================] - 27s 27ms/step - loss: 0.0273 - accuracy: 0.9917 - val_loss: 0.0092 - val_accuracy: 0.9983\n",
      "\n",
      "Epoch 00015: val_accuracy improved from 0.99803 to 0.99829, saving model to ./Networks\\ContrastDataAugmentation.ckpt\n",
      "Epoch 16/20\n",
      "980/980 [==============================] - 28s 29ms/step - loss: 0.0299 - accuracy: 0.9903 - val_loss: 0.0084 - val_accuracy: 0.9980\n",
      "\n",
      "Epoch 00016: val_accuracy did not improve from 0.99829\n",
      "Epoch 17/20\n",
      "980/980 [==============================] - 26s 27ms/step - loss: 0.0252 - accuracy: 0.9925 - val_loss: 0.0070 - val_accuracy: 0.9982\n",
      "\n",
      "Epoch 00017: val_accuracy did not improve from 0.99829\n",
      "Epoch 18/20\n",
      "980/980 [==============================] - 26s 27ms/step - loss: 0.0271 - accuracy: 0.9914 - val_loss: 0.0098 - val_accuracy: 0.9981\n",
      "\n",
      "Epoch 00018: val_accuracy did not improve from 0.99829\n",
      "Epoch 19/20\n",
      "980/980 [==============================] - 26s 27ms/step - loss: 0.0223 - accuracy: 0.9930 - val_loss: 0.0050 - val_accuracy: 0.9988\n",
      "\n",
      "Epoch 00019: val_accuracy improved from 0.99829 to 0.99879, saving model to ./Networks\\ContrastDataAugmentation.ckpt\n",
      "Epoch 20/20\n",
      "980/980 [==============================] - 26s 27ms/step - loss: 0.0220 - accuracy: 0.9931 - val_loss: 0.0063 - val_accuracy: 0.9987\n",
      "\n",
      "Epoch 00020: val_accuracy did not improve from 0.99879\n"
     ]
    }
   ],
   "source": [
    "historyV4 = modelV4.fit(train_dataset, steps_per_epoch = train_size/BATCH_SIZE,\n",
    "          epochs=20, \n",
    "          validation_data = val_dataset, \n",
    "          validation_steps = val_size/BATCH_SIZE,\n",
    "          callbacks = callbacksV4)"
   ]
  },
  {
   "cell_type": "markdown",
   "metadata": {},
   "source": [
    "### Show the learning history"
   ]
  },
  {
   "cell_type": "code",
   "execution_count": 5,
   "metadata": {},
   "outputs": [
    {
     "name": "stdout",
     "output_type": "stream",
     "text": [
      "dict_keys(['loss', 'accuracy', 'val_loss', 'val_accuracy', 'lr'])\n"
     ]
    },
    {
     "data": {
      "image/png": "[encoded data removed]",
      "text/plain": [
       "<Figure size 432x288 with 1 Axes>"
      ]
     },
     "metadata": {
      "needs_background": "light"
     },
     "output_type": "display_data"
    },
    {
     "data": {
      "image/png": "[encoded data removed]",
      "text/plain": [
       "<Figure size 432x288 with 1 Axes>"
      ]
     },
     "metadata": {
      "needs_background": "light"
     },
     "output_type": "display_data"
    }
   ],
   "source": [
    "show_history(historyV4)"
   ]
  },
  {
   "cell_type": "markdown",
   "metadata": {},
   "source": [
    "### Load weights from file and test with validation and test dataset"
   ]
  },
  {
   "cell_type": "code",
   "execution_count": 6,
   "metadata": {
    "tags": []
   },
   "outputs": [
    {
     "name": "stdout",
     "output_type": "stream",
     "text": [
      "198/198 - 3s - loss: 0.0651 - accuracy: 0.9857\n",
      "245/245 - 9s - loss: 0.0061 - accuracy: 0.9989\n"
     ]
    }
   ],
   "source": [
    "modelV4.load_weights(file_pathV4)\n",
    "\n",
    "evalV4 = modelV4.evaluate(test_dataset, verbose=2)\n",
    "valV4 = modelV4.evaluate(val_dataset, steps=val_size/BATCH_SIZE, verbose=2)"
   ]
  }
 ],
 "metadata": {
  "interpreter": {
   "hash": "d0da461f411a8ab525eeaf0c070efcfd41d80a0fa07fe716f6def51d18e38691"
  },
  "kernelspec": {
   "display_name": "Python 3.8.0 ('tf_gpu')",
   "language": "python",
   "name": "python3"
  },
  "language_info": {
   "codemirror_mode": {
    "name": "ipython",
    "version": 3
   },
   "file_extension": ".py",
   "mimetype": "text/x-python",
   "name": "python",
   "nbconvert_exporter": "python",
   "pygments_lexer": "ipython3",
   "version": "3.8.0"
  },
  "orig_nbformat": 4
 },
 "nbformat": 4,
 "nbformat_minor": 2
}
