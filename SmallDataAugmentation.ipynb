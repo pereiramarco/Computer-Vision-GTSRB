{
 "cells": [
  {
   "cell_type": "markdown",
   "metadata": {},
   "source": [
    "# Version II - dynamic data augmentation"
   ]
  },
  {
   "cell_type": "markdown",
   "metadata": {},
   "source": [
    "### Imports and initial setup"
   ]
  },
  {
   "cell_type": "code",
   "execution_count": 2,
   "metadata": {},
   "outputs": [
    {
     "name": "stdout",
     "output_type": "stream",
     "text": [
      "importing Jupyter notebook from InitialSetup.ipynb\n",
      "Num GPUs Available:  1\n",
      "Total images in validatation dataset:  12630\n",
      "(32, 32, 3) (43,)\n",
      "Total images in dataset:  39209\n"
     ]
    }
   ],
   "source": [
    "import import_ipynb\n",
    "\n",
    "#pip install tensorflow-addons\n",
    "import tensorflow_addons as tfa\n",
    "\n",
    "from InitialSetup import dataset, BATCH_SIZE, tf, prepare_callbacks, model_VI, show_history, test_dataset"
   ]
  },
  {
   "cell_type": "markdown",
   "metadata": {},
   "source": [
    "### Functions to transform image"
   ]
  },
  {
   "cell_type": "code",
   "execution_count": 2,
   "metadata": {
    "tags": []
   },
   "outputs": [],
   "source": [
    "def process_image_trans(image, label):\n",
    "    \n",
    "    rx = tf.random.uniform(shape=(), minval=0, maxval=20) - 10\n",
    "    ry = tf.random.uniform(shape=(), minval=0, maxval=8) - 4\n",
    "    image = tfa.image.translate(image, [rx, ry])\n",
    "\n",
    "    return image, label\n",
    "\n",
    "def process_image_rot(image, label):\n",
    "    \n",
    "    r = tf.random.uniform(shape=(), minval=0, maxval=0.5, dtype=tf.dtypes.float32) - 0.25\n",
    "    image = tfa.image.rotate(image, r)\n",
    "    image = tf.clip_by_value(tfa.image.random_hsv_in_yiq(image, 0.0, 0.4, 1.1, 0.4, 1.1), 0.0, 1.0)\n",
    "\n",
    "    #image = tf.clip_by_value(tf.image.adjust_brightness(image, tf.random.uniform(shape=(), minval=0, maxval=0.1)-0.2),0,1)\n",
    "    return image, label\n"
   ]
  },
  {
   "cell_type": "markdown",
   "metadata": {},
   "source": [
    "### Preparation of the training and validation dataset"
   ]
  },
  {
   "cell_type": "code",
   "execution_count": 3,
   "metadata": {
    "tags": []
   },
   "outputs": [],
   "source": [
    "\n",
    "dataSoloV2 = dataset.map(process_image_trans)\n",
    "dataSoloV2 = dataSoloV2.concatenate(dataset.map(process_image_rot))\n",
    "dataSoloV2_size = tf.data.experimental.cardinality(dataSoloV2).numpy()\n",
    "\n",
    "dataSoloV2 = dataSoloV2.cache()\n",
    "dataSoloV2 = dataSoloV2.shuffle(buffer_size = dataSoloV2_size)\n",
    "dataSoloV2 = dataSoloV2.prefetch(buffer_size = dataSoloV2_size)\n",
    "dataSoloV2 = dataSoloV2.batch(batch_size = BATCH_SIZE)\n",
    "dataSoloV2 = dataSoloV2.repeat()\n",
    "\n",
    "train_size = int(0.8* dataSoloV2_size)\n",
    "val_size = int(0.2* dataSoloV2_size)\n",
    "\n",
    "train_dataset = dataSoloV2.take(train_size)\n",
    "val_dataset = dataSoloV2.skip(train_size)\n"
   ]
  },
  {
   "cell_type": "markdown",
   "metadata": {},
   "source": [
    "### Setup model and save place"
   ]
  },
  {
   "cell_type": "code",
   "execution_count": 3,
   "metadata": {},
   "outputs": [],
   "source": [
    "modelV2 = model_VI(43, 32, 3)\n",
    "\n",
    "file_pathV2 = './Networks/SmallDataAugmentation.ckpt'\n",
    "\n",
    "callbacksV2 = prepare_callbacks(file_pathV2)"
   ]
  },
  {
   "cell_type": "markdown",
   "metadata": {},
   "source": [
    "### Train model"
   ]
  },
  {
   "cell_type": "code",
   "execution_count": 4,
   "metadata": {
    "tags": []
   },
   "outputs": [
    {
     "name": "stdout",
     "output_type": "stream",
     "text": [
      "Epoch 1/20\n",
      "980/980 [==============================] - 49s 30ms/step - loss: 3.5332 - accuracy: 0.1327 - val_loss: 1.6504 - val_accuracy: 0.5300\n",
      "\n",
      "Epoch 00001: val_accuracy improved from -inf to 0.52998, saving model to ./Networks\\SmallDataAugmentation.ckpt\n",
      "Epoch 2/20\n",
      "980/980 [==============================] - 29s 30ms/step - loss: 1.8470 - accuracy: 0.4686 - val_loss: 0.7901 - val_accuracy: 0.7600\n",
      "\n",
      "Epoch 00002: val_accuracy improved from 0.52998 to 0.75997, saving model to ./Networks\\SmallDataAugmentation.ckpt\n",
      "Epoch 3/20\n",
      "980/980 [==============================] - 29s 30ms/step - loss: 1.1241 - accuracy: 0.6574 - val_loss: 0.4714 - val_accuracy: 0.8589\n",
      "\n",
      "Epoch 00003: val_accuracy improved from 0.75997 to 0.85893, saving model to ./Networks\\SmallDataAugmentation.ckpt\n",
      "Epoch 4/20\n",
      "980/980 [==============================] - 29s 30ms/step - loss: 0.7375 - accuracy: 0.7684 - val_loss: 0.2801 - val_accuracy: 0.9182\n",
      "\n",
      "Epoch 00004: val_accuracy improved from 0.85893 to 0.91819, saving model to ./Networks\\SmallDataAugmentation.ckpt\n",
      "Epoch 5/20\n",
      "980/980 [==============================] - 29s 30ms/step - loss: 0.4880 - accuracy: 0.8458 - val_loss: 0.1811 - val_accuracy: 0.9506\n",
      "\n",
      "Epoch 00005: val_accuracy improved from 0.91819 to 0.95058, saving model to ./Networks\\SmallDataAugmentation.ckpt\n",
      "Epoch 6/20\n",
      "980/980 [==============================] - 29s 30ms/step - loss: 0.3332 - accuracy: 0.8947 - val_loss: 0.0905 - val_accuracy: 0.9767\n",
      "\n",
      "Epoch 00006: val_accuracy improved from 0.95058 to 0.97669, saving model to ./Networks\\SmallDataAugmentation.ckpt\n",
      "Epoch 7/20\n",
      "980/980 [==============================] - 29s 30ms/step - loss: 0.2539 - accuracy: 0.9177 - val_loss: 0.0637 - val_accuracy: 0.9845\n",
      "\n",
      "Epoch 00007: val_accuracy improved from 0.97669 to 0.98450, saving model to ./Networks\\SmallDataAugmentation.ckpt\n",
      "Epoch 8/20\n",
      "980/980 [==============================] - 29s 30ms/step - loss: 0.1979 - accuracy: 0.9374 - val_loss: 0.0466 - val_accuracy: 0.9905\n",
      "\n",
      "Epoch 00008: val_accuracy improved from 0.98450 to 0.99047, saving model to ./Networks\\SmallDataAugmentation.ckpt\n",
      "Epoch 9/20\n",
      "980/980 [==============================] - 30s 30ms/step - loss: 0.1530 - accuracy: 0.9517 - val_loss: 0.0268 - val_accuracy: 0.9944\n",
      "\n",
      "Epoch 00009: val_accuracy improved from 0.99047 to 0.99441, saving model to ./Networks\\SmallDataAugmentation.ckpt\n",
      "Epoch 10/20\n",
      "980/980 [==============================] - 29s 30ms/step - loss: 0.1192 - accuracy: 0.9635 - val_loss: 0.0213 - val_accuracy: 0.9954\n",
      "\n",
      "Epoch 00010: val_accuracy improved from 0.99441 to 0.99536, saving model to ./Networks\\SmallDataAugmentation.ckpt\n",
      "Epoch 11/20\n",
      "980/980 [==============================] - 29s 30ms/step - loss: 0.1014 - accuracy: 0.9687 - val_loss: 0.0145 - val_accuracy: 0.9968\n",
      "\n",
      "Epoch 00011: val_accuracy improved from 0.99536 to 0.99682, saving model to ./Networks\\SmallDataAugmentation.ckpt\n",
      "Epoch 12/20\n",
      "980/980 [==============================] - 29s 30ms/step - loss: 0.0859 - accuracy: 0.9726 - val_loss: 0.0154 - val_accuracy: 0.9964\n",
      "\n",
      "Epoch 00012: val_accuracy did not improve from 0.99682\n",
      "Epoch 13/20\n",
      "980/980 [==============================] - 29s 30ms/step - loss: 0.0745 - accuracy: 0.9769 - val_loss: 0.0175 - val_accuracy: 0.9952\n",
      "\n",
      "Epoch 00013: val_accuracy did not improve from 0.99682\n",
      "Epoch 14/20\n",
      "980/980 [==============================] - 29s 30ms/step - loss: 0.0673 - accuracy: 0.9779 - val_loss: 0.0068 - val_accuracy: 0.9983\n",
      "\n",
      "Epoch 00014: val_accuracy improved from 0.99682 to 0.99835, saving model to ./Networks\\SmallDataAugmentation.ckpt\n",
      "Epoch 15/20\n",
      "980/980 [==============================] - 29s 30ms/step - loss: 0.0593 - accuracy: 0.9812 - val_loss: 0.0062 - val_accuracy: 0.9987\n",
      "\n",
      "Epoch 00015: val_accuracy improved from 0.99835 to 0.99867, saving model to ./Networks\\SmallDataAugmentation.ckpt\n",
      "Epoch 16/20\n",
      "980/980 [==============================] - 29s 30ms/step - loss: 0.0513 - accuracy: 0.9841 - val_loss: 0.0071 - val_accuracy: 0.9986\n",
      "\n",
      "Epoch 00016: val_accuracy did not improve from 0.99867\n",
      "Epoch 17/20\n",
      "980/980 [==============================] - 29s 30ms/step - loss: 0.0503 - accuracy: 0.9848 - val_loss: 0.0056 - val_accuracy: 0.9990\n",
      "\n",
      "Epoch 00017: val_accuracy improved from 0.99867 to 0.99905, saving model to ./Networks\\SmallDataAugmentation.ckpt\n",
      "Epoch 18/20\n",
      "980/980 [==============================] - 29s 30ms/step - loss: 0.0459 - accuracy: 0.9860 - val_loss: 0.0038 - val_accuracy: 0.9992\n",
      "\n",
      "Epoch 00018: val_accuracy improved from 0.99905 to 0.99924, saving model to ./Networks\\SmallDataAugmentation.ckpt\n",
      "Epoch 19/20\n",
      "980/980 [==============================] - 29s 30ms/step - loss: 0.0385 - accuracy: 0.9873 - val_loss: 0.0031 - val_accuracy: 0.9995\n",
      "\n",
      "Epoch 00019: val_accuracy improved from 0.99924 to 0.99949, saving model to ./Networks\\SmallDataAugmentation.ckpt\n",
      "Epoch 20/20\n",
      "980/980 [==============================] - 29s 30ms/step - loss: 0.0439 - accuracy: 0.9865 - val_loss: 0.0019 - val_accuracy: 0.9997\n",
      "\n",
      "Epoch 00020: val_accuracy improved from 0.99949 to 0.99975, saving model to ./Networks\\SmallDataAugmentation.ckpt\n"
     ]
    }
   ],
   "source": [
    "historyV2 = modelV2.fit(train_dataset, steps_per_epoch = train_size/BATCH_SIZE,\n",
    "          epochs=20, \n",
    "          validation_data = val_dataset,\n",
    "          validation_steps = val_size/BATCH_SIZE,\n",
    "          callbacks = callbacksV2)"
   ]
  },
  {
   "cell_type": "code",
   "execution_count": 6,
   "metadata": {
    "tags": []
   },
   "outputs": [
    {
     "name": "stdout",
     "output_type": "stream",
     "text": [
      "dict_keys(['loss', 'accuracy', 'val_loss', 'val_accuracy', 'lr'])\n"
     ]
    },
    {
     "data": {
      "image/png": "[encoded data removed]",
      "text/plain": [
       "<Figure size 432x288 with 1 Axes>"
      ]
     },
     "metadata": {
      "needs_background": "light"
     },
     "output_type": "display_data"
    },
    {
     "data": {
      "image/png": "[encoded data removed]",
      "text/plain": [
       "<Figure size 432x288 with 1 Axes>"
      ]
     },
     "metadata": {
      "needs_background": "light"
     },
     "output_type": "display_data"
    },
    {
     "name": "stdout",
     "output_type": "stream",
     "text": [
      "198/198 - 2s - loss: 0.0612 - accuracy: 0.9829\n",
      "245/245 - 10s - loss: 0.0020 - accuracy: 0.9996\n"
     ]
    }
   ],
   "source": [
    "show_history(historyV2)\n",
    "\n",
    "modelV2.load_weights(file_pathV2)\n",
    "\n",
    "evalV2 = modelV2.evaluate(test_dataset, verbose=2)\n",
    "valV2 = modelV2.evaluate(val_dataset, steps=val_size/BATCH_SIZE, verbose=2)"
   ]
  }
 ],
 "metadata": {
  "interpreter": {
   "hash": "d0da461f411a8ab525eeaf0c070efcfd41d80a0fa07fe716f6def51d18e38691"
  },
  "kernelspec": {
   "display_name": "Python 3.8.0 ('tf_gpu')",
   "language": "python",
   "name": "python3"
  },
  "language_info": {
   "codemirror_mode": {
    "name": "ipython",
    "version": 3
   },
   "file_extension": ".py",
   "mimetype": "text/x-python",
   "name": "python",
   "nbconvert_exporter": "python",
   "pygments_lexer": "ipython3",
   "version": "3.8.0"
  },
  "orig_nbformat": 4
 },
 "nbformat": 4,
 "nbformat_minor": 2
}
