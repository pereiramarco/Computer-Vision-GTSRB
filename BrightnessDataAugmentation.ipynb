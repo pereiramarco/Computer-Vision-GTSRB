{
 "cells": [
  {
   "cell_type": "markdown",
   "metadata": {},
   "source": [
    "# Version IV - Brightness data augmentation"
   ]
  },
  {
   "cell_type": "markdown",
   "metadata": {},
   "source": [
    "### Imports and initial setup"
   ]
  },
  {
   "cell_type": "code",
   "execution_count": 1,
   "metadata": {},
   "outputs": [
    {
     "name": "stdout",
     "output_type": "stream",
     "text": [
      "importing Jupyter notebook from InitialSetup.ipynb\n",
      "Num GPUs Available:  1\n",
      "Total images in validatation dataset:  12630\n",
      "(32, 32, 3) (43,)\n",
      "Total images in dataset:  39209\n"
     ]
    }
   ],
   "source": [
    "import import_ipynb\n",
    "\n",
    "from InitialSetup import dataset, BATCH_SIZE, tf, prepare_callbacks, model_VI, show_history, test_dataset, AUTOTUNE, process_brightness"
   ]
  },
  {
   "cell_type": "code",
   "execution_count": 2,
   "metadata": {},
   "outputs": [],
   "source": [
    "dataSoloV4 = dataset\n",
    "dataSoloV4 = dataSoloV4.concatenate(dataSoloV4.map(process_brightness))\n",
    "\n",
    "dataSoloV4_size = tf.data.experimental.cardinality(dataSoloV4).numpy()\n",
    "\n",
    "dataSoloV4 = dataSoloV4.cache()\n",
    "dataSoloV4 = dataSoloV4.shuffle(buffer_size = dataSoloV4_size)\n",
    "dataSoloV4 = dataSoloV4.batch(batch_size = BATCH_SIZE)\n",
    "dataSoloV4 = dataSoloV4.prefetch(buffer_size = AUTOTUNE)\n",
    "dataSoloV4 = dataSoloV4.repeat()\n",
    "\n",
    "train_size = int(0.8* dataSoloV4_size)\n",
    "val_size = int(0.2* dataSoloV4_size)\n",
    "\n",
    "train_dataset = dataSoloV4.take(train_size)\n",
    "val_dataset = dataSoloV4.skip(train_size)"
   ]
  },
  {
   "cell_type": "markdown",
   "metadata": {},
   "source": [
    "### Setup model and save place"
   ]
  },
  {
   "cell_type": "code",
   "execution_count": 3,
   "metadata": {},
   "outputs": [],
   "source": [
    "modelV4 = model_VI(43, 32, 3)\n",
    "\n",
    "file_pathV4 = './Networks/BrightnessDataAugmentation.ckpt'\n",
    "\n",
    "callbacksV4 = prepare_callbacks(file_pathV4)"
   ]
  },
  {
   "cell_type": "markdown",
   "metadata": {},
   "source": [
    "### Train model"
   ]
  },
  {
   "cell_type": "code",
   "execution_count": 4,
   "metadata": {
    "tags": []
   },
   "outputs": [
    {
     "name": "stdout",
     "output_type": "stream",
     "text": [
      "Epoch 1/20\n",
      "980/980 [==============================] - 46s 30ms/step - loss: 2.8241 - accuracy: 0.2967 - val_loss: 0.3532 - val_accuracy: 0.9081\n",
      "\n",
      "Epoch 00001: val_accuracy improved from -inf to 0.90809, saving model to ./Networks\\BrightnessDataAugmentation.ckpt\n",
      "Epoch 2/20\n",
      "980/980 [==============================] - 28s 29ms/step - loss: 0.5692 - accuracy: 0.8292 - val_loss: 0.1184 - val_accuracy: 0.9703\n",
      "\n",
      "Epoch 00002: val_accuracy improved from 0.90809 to 0.97034, saving model to ./Networks\\BrightnessDataAugmentation.ckpt\n",
      "Epoch 3/20\n",
      "980/980 [==============================] - 28s 29ms/step - loss: 0.2721 - accuracy: 0.9196 - val_loss: 0.0738 - val_accuracy: 0.9801\n",
      "\n",
      "Epoch 00003: val_accuracy improved from 0.97034 to 0.98006, saving model to ./Networks\\BrightnessDataAugmentation.ckpt\n",
      "Epoch 4/20\n",
      "980/980 [==============================] - 28s 29ms/step - loss: 0.1835 - accuracy: 0.9461 - val_loss: 0.0564 - val_accuracy: 0.9855\n",
      "\n",
      "Epoch 00004: val_accuracy improved from 0.98006 to 0.98545, saving model to ./Networks\\BrightnessDataAugmentation.ckpt\n",
      "Epoch 5/20\n",
      "980/980 [==============================] - 28s 29ms/step - loss: 0.1387 - accuracy: 0.9594 - val_loss: 0.0510 - val_accuracy: 0.9853\n",
      "\n",
      "Epoch 00005: val_accuracy did not improve from 0.98545\n",
      "Epoch 6/20\n",
      "980/980 [==============================] - 28s 29ms/step - loss: 0.1107 - accuracy: 0.9660 - val_loss: 0.0345 - val_accuracy: 0.9903\n",
      "\n",
      "Epoch 00006: val_accuracy improved from 0.98545 to 0.99028, saving model to ./Networks\\BrightnessDataAugmentation.ckpt\n",
      "Epoch 7/20\n",
      "980/980 [==============================] - 28s 29ms/step - loss: 0.0915 - accuracy: 0.9724 - val_loss: 0.0472 - val_accuracy: 0.9890\n",
      "\n",
      "Epoch 00007: val_accuracy did not improve from 0.99028\n",
      "Epoch 8/20\n",
      "980/980 [==============================] - 28s 29ms/step - loss: 0.0821 - accuracy: 0.9751 - val_loss: 0.0444 - val_accuracy: 0.9887\n",
      "\n",
      "Epoch 00008: val_accuracy did not improve from 0.99028\n",
      "Epoch 9/20\n",
      "980/980 [==============================] - 28s 29ms/step - loss: 0.0742 - accuracy: 0.9776 - val_loss: 0.0257 - val_accuracy: 0.9935\n",
      "\n",
      "Epoch 00009: val_accuracy improved from 0.99028 to 0.99352, saving model to ./Networks\\BrightnessDataAugmentation.ckpt\n",
      "Epoch 10/20\n",
      "980/980 [==============================] - 28s 29ms/step - loss: 0.0649 - accuracy: 0.9800 - val_loss: 0.0247 - val_accuracy: 0.9937\n",
      "\n",
      "Epoch 00010: val_accuracy improved from 0.99352 to 0.99371, saving model to ./Networks\\BrightnessDataAugmentation.ckpt\n",
      "Epoch 11/20\n",
      "980/980 [==============================] - 29s 30ms/step - loss: 0.0619 - accuracy: 0.9813 - val_loss: 0.0281 - val_accuracy: 0.9920\n",
      "\n",
      "Epoch 00011: val_accuracy did not improve from 0.99371\n",
      "Epoch 12/20\n",
      "980/980 [==============================] - 29s 30ms/step - loss: 0.0548 - accuracy: 0.9832 - val_loss: 0.0217 - val_accuracy: 0.9943\n",
      "\n",
      "Epoch 00012: val_accuracy improved from 0.99371 to 0.99435, saving model to ./Networks\\BrightnessDataAugmentation.ckpt\n",
      "Epoch 13/20\n",
      "980/980 [==============================] - 29s 29ms/step - loss: 0.0484 - accuracy: 0.9853 - val_loss: 0.0223 - val_accuracy: 0.9946\n",
      "\n",
      "Epoch 00013: val_accuracy improved from 0.99435 to 0.99460, saving model to ./Networks\\BrightnessDataAugmentation.ckpt\n",
      "Epoch 14/20\n",
      "980/980 [==============================] - 29s 29ms/step - loss: 0.0476 - accuracy: 0.9856 - val_loss: 0.0203 - val_accuracy: 0.9947\n",
      "\n",
      "Epoch 00014: val_accuracy improved from 0.99460 to 0.99473, saving model to ./Networks\\BrightnessDataAugmentation.ckpt\n",
      "Epoch 15/20\n",
      "980/980 [==============================] - 29s 30ms/step - loss: 0.0450 - accuracy: 0.9861 - val_loss: 0.0191 - val_accuracy: 0.9953\n",
      "\n",
      "Epoch 00015: val_accuracy improved from 0.99473 to 0.99530, saving model to ./Networks\\BrightnessDataAugmentation.ckpt\n",
      "Epoch 16/20\n",
      "980/980 [==============================] - 29s 29ms/step - loss: 0.0407 - accuracy: 0.9873 - val_loss: 0.0174 - val_accuracy: 0.9964\n",
      "\n",
      "Epoch 00016: val_accuracy improved from 0.99530 to 0.99638, saving model to ./Networks\\BrightnessDataAugmentation.ckpt\n",
      "Epoch 17/20\n",
      "980/980 [==============================] - 29s 29ms/step - loss: 0.0377 - accuracy: 0.9883 - val_loss: 0.0132 - val_accuracy: 0.9963\n",
      "\n",
      "Epoch 00017: val_accuracy did not improve from 0.99638\n",
      "Epoch 18/20\n",
      "980/980 [==============================] - 28s 29ms/step - loss: 0.0339 - accuracy: 0.9892 - val_loss: 0.0180 - val_accuracy: 0.9950\n",
      "\n",
      "Epoch 00018: val_accuracy did not improve from 0.99638\n",
      "Epoch 19/20\n",
      "980/980 [==============================] - 28s 29ms/step - loss: 0.0417 - accuracy: 0.9873 - val_loss: 0.0143 - val_accuracy: 0.9966\n",
      "\n",
      "Epoch 00019: val_accuracy improved from 0.99638 to 0.99657, saving model to ./Networks\\BrightnessDataAugmentation.ckpt\n",
      "Epoch 20/20\n",
      "980/980 [==============================] - 29s 29ms/step - loss: 0.0374 - accuracy: 0.9890 - val_loss: 0.0168 - val_accuracy: 0.9954\n",
      "\n",
      "Epoch 00020: val_accuracy did not improve from 0.99657\n"
     ]
    }
   ],
   "source": [
    "historyV4 = modelV4.fit(train_dataset, steps_per_epoch = train_size/BATCH_SIZE,\n",
    "          epochs=20, \n",
    "          validation_data = val_dataset, \n",
    "          validation_steps = val_size/BATCH_SIZE,\n",
    "          callbacks = callbacksV4)"
   ]
  },
  {
   "cell_type": "markdown",
   "metadata": {},
   "source": [
    "### Show the learning history"
   ]
  },
  {
   "cell_type": "code",
   "execution_count": 5,
   "metadata": {},
   "outputs": [
    {
     "name": "stdout",
     "output_type": "stream",
     "text": [
      "dict_keys(['loss', 'accuracy', 'val_loss', 'val_accuracy', 'lr'])\n"
     ]
    },
    {
     "data": {
      "image/png": "[encoded data removed]",
      "text/plain": [
       "<Figure size 432x288 with 1 Axes>"
      ]
     },
     "metadata": {
      "needs_background": "light"
     },
     "output_type": "display_data"
    },
    {
     "data": {
      "image/png": "[encoded data removed]",
      "text/plain": [
       "<Figure size 432x288 with 1 Axes>"
      ]
     },
     "metadata": {
      "needs_background": "light"
     },
     "output_type": "display_data"
    }
   ],
   "source": [
    "show_history(historyV4)"
   ]
  },
  {
   "cell_type": "markdown",
   "metadata": {},
   "source": [
    "### Load weights from file and test with validation and test dataset"
   ]
  },
  {
   "cell_type": "code",
   "execution_count": 6,
   "metadata": {
    "tags": []
   },
   "outputs": [
    {
     "name": "stdout",
     "output_type": "stream",
     "text": [
      "198/198 - 3s - loss: 0.0589 - accuracy: 0.9838\n",
      "245/245 - 10s - loss: 0.0131 - accuracy: 0.9963\n"
     ]
    }
   ],
   "source": [
    "modelV4.load_weights(file_pathV4)\n",
    "\n",
    "evalV4 = modelV4.evaluate(test_dataset, verbose=2)\n",
    "valV4 = modelV4.evaluate(val_dataset, steps=val_size/BATCH_SIZE, verbose=2)"
   ]
  }
 ],
 "metadata": {
  "interpreter": {
   "hash": "d0da461f411a8ab525eeaf0c070efcfd41d80a0fa07fe716f6def51d18e38691"
  },
  "kernelspec": {
   "display_name": "Python 3.8.0 ('tf_gpu')",
   "language": "python",
   "name": "python3"
  },
  "language_info": {
   "codemirror_mode": {
    "name": "ipython",
    "version": 3
   },
   "file_extension": ".py",
   "mimetype": "text/x-python",
   "name": "python",
   "nbconvert_exporter": "python",
   "pygments_lexer": "ipython3",
   "version": "3.8.0"
  },
  "orig_nbformat": 4
 },
 "nbformat": 4,
 "nbformat_minor": 2
}
