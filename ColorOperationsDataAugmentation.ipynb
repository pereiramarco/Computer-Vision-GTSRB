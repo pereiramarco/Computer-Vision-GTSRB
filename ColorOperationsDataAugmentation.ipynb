{
 "cells": [
  {
   "cell_type": "markdown",
   "metadata": {},
   "source": [
    "# Version V - Color operations data augmentation"
   ]
  },
  {
   "cell_type": "markdown",
   "metadata": {},
   "source": [
    "### Imports and initial setup"
   ]
  },
  {
   "cell_type": "code",
   "execution_count": 5,
   "metadata": {},
   "outputs": [],
   "source": [
    "import import_ipynb\n",
    "\n",
    "from InitialSetup import dataset, BATCH_SIZE, tf, prepare_callbacks, model_VI, show_history, test_dataset, AUTOTUNE, process_hue, process_contrast, process_brightness, process_saturation"
   ]
  },
  {
   "cell_type": "code",
   "execution_count": 6,
   "metadata": {},
   "outputs": [],
   "source": [
    "dataSoloV5 = dataset\n",
    "dataSoloV5 = dataSoloV5.concatenate(dataset.map(process_hue))\n",
    "dataSoloV5 = dataSoloV5.concatenate(dataset.map(process_contrast))\n",
    "dataSoloV5 = dataSoloV5.concatenate(dataset.map(process_brightness))\n",
    "dataSoloV5 = dataSoloV5.concatenate(dataset.map(process_saturation))\n",
    "\n",
    "dataSoloV5_size = tf.data.experimental.cardinality(dataSoloV5).numpy()\n",
    "\n",
    "dataSoloV5 = dataSoloV5.cache()\n",
    "dataSoloV5 = dataSoloV5.shuffle(buffer_size = dataSoloV5_size)\n",
    "dataSoloV5 = dataSoloV5.batch(batch_size = BATCH_SIZE)\n",
    "dataSoloV5 = dataSoloV5.prefetch(buffer_size = AUTOTUNE)\n",
    "dataSoloV5 = dataSoloV5.repeat()\n",
    "\n",
    "train_size = int(0.8* dataSoloV5_size)\n",
    "val_size = int(0.2* dataSoloV5_size)\n",
    "\n",
    "train_dataset = dataSoloV5.take(train_size)\n",
    "val_dataset = dataSoloV5.skip(train_size)"
   ]
  },
  {
   "cell_type": "markdown",
   "metadata": {},
   "source": [
    "### Setup model and save place"
   ]
  },
  {
   "cell_type": "code",
   "execution_count": 7,
   "metadata": {},
   "outputs": [],
   "source": [
    "modelV5 = model_VI(43, 32, 3)\n",
    "\n",
    "file_pathV5 = './Networks/ColorOperationsDataAugmentation.ckpt'\n",
    "\n",
    "callbacksV5 = prepare_callbacks(file_pathV5)"
   ]
  },
  {
   "cell_type": "markdown",
   "metadata": {},
   "source": [
    "### Train model"
   ]
  },
  {
   "cell_type": "code",
   "execution_count": 8,
   "metadata": {
    "tags": []
   },
   "outputs": [
    {
     "name": "stdout",
     "output_type": "stream",
     "text": [
      "Epoch 1/20\n",
      "2450/2450 [==============================] - 112s 30ms/step - loss: 1.9190 - accuracy: 0.5064 - val_loss: 0.0841 - val_accuracy: 0.9788\n",
      "\n",
      "Epoch 00001: val_accuracy improved from -inf to 0.97879, saving model to ./Networks\\ColorOperationsDataAugmentation.ckpt\n",
      "Epoch 2/20\n",
      "2450/2450 [==============================] - 73s 30ms/step - loss: 0.1835 - accuracy: 0.9464 - val_loss: 0.0402 - val_accuracy: 0.9891\n",
      "\n",
      "Epoch 00002: val_accuracy improved from 0.97879 to 0.98909, saving model to ./Networks\\ColorOperationsDataAugmentation.ckpt\n",
      "Epoch 3/20\n",
      "2450/2450 [==============================] - 73s 30ms/step - loss: 0.1001 - accuracy: 0.9705 - val_loss: 0.0307 - val_accuracy: 0.9919\n",
      "\n",
      "Epoch 00003: val_accuracy improved from 0.98909 to 0.99192, saving model to ./Networks\\ColorOperationsDataAugmentation.ckpt\n",
      "Epoch 4/20\n",
      "2450/2450 [==============================] - 73s 30ms/step - loss: 0.0691 - accuracy: 0.9800 - val_loss: 0.0238 - val_accuracy: 0.9933\n",
      "\n",
      "Epoch 00004: val_accuracy improved from 0.99192 to 0.99335, saving model to ./Networks\\ColorOperationsDataAugmentation.ckpt\n",
      "Epoch 5/20\n",
      "2450/2450 [==============================] - 72s 30ms/step - loss: 0.0567 - accuracy: 0.9833 - val_loss: 0.0193 - val_accuracy: 0.9945\n",
      "\n",
      "Epoch 00005: val_accuracy improved from 0.99335 to 0.99455, saving model to ./Networks\\ColorOperationsDataAugmentation.ckpt\n",
      "Epoch 6/20\n",
      "2450/2450 [==============================] - 74s 30ms/step - loss: 0.0467 - accuracy: 0.9858 - val_loss: 0.0226 - val_accuracy: 0.9939\n",
      "\n",
      "Epoch 00006: val_accuracy did not improve from 0.99455\n",
      "Epoch 7/20\n",
      "2450/2450 [==============================] - 73s 30ms/step - loss: 0.0413 - accuracy: 0.9876 - val_loss: 0.0168 - val_accuracy: 0.9952\n",
      "\n",
      "Epoch 00007: val_accuracy improved from 0.99455 to 0.99523, saving model to ./Networks\\ColorOperationsDataAugmentation.ckpt\n",
      "Epoch 8/20\n",
      "2450/2450 [==============================] - 73s 30ms/step - loss: 0.0376 - accuracy: 0.9886 - val_loss: 0.0141 - val_accuracy: 0.9963\n",
      "\n",
      "Epoch 00008: val_accuracy improved from 0.99523 to 0.99633, saving model to ./Networks\\ColorOperationsDataAugmentation.ckpt\n",
      "Epoch 9/20\n",
      "2450/2450 [==============================] - 73s 30ms/step - loss: 0.0343 - accuracy: 0.9898 - val_loss: 0.0134 - val_accuracy: 0.9966\n",
      "\n",
      "Epoch 00009: val_accuracy improved from 0.99633 to 0.99664, saving model to ./Networks\\ColorOperationsDataAugmentation.ckpt\n",
      "Epoch 10/20\n",
      "2450/2450 [==============================] - 75s 31ms/step - loss: 0.0315 - accuracy: 0.9902 - val_loss: 0.0124 - val_accuracy: 0.9971\n",
      "\n",
      "Epoch 00010: val_accuracy improved from 0.99664 to 0.99715, saving model to ./Networks\\ColorOperationsDataAugmentation.ckpt\n",
      "Epoch 11/20\n",
      "2450/2450 [==============================] - 72s 30ms/step - loss: 0.0284 - accuracy: 0.9912 - val_loss: 0.0107 - val_accuracy: 0.9969\n",
      "\n",
      "Epoch 00011: val_accuracy did not improve from 0.99715\n",
      "Epoch 12/20\n",
      "2450/2450 [==============================] - 75s 31ms/step - loss: 0.0271 - accuracy: 0.9919 - val_loss: 0.0108 - val_accuracy: 0.9971\n",
      "\n",
      "Epoch 00012: val_accuracy did not improve from 0.99715\n",
      "Epoch 13/20\n",
      "2450/2450 [==============================] - 74s 30ms/step - loss: 0.0263 - accuracy: 0.9917 - val_loss: 0.0099 - val_accuracy: 0.9973\n",
      "\n",
      "Epoch 00013: val_accuracy improved from 0.99715 to 0.99735, saving model to ./Networks\\ColorOperationsDataAugmentation.ckpt\n",
      "Epoch 14/20\n",
      "2450/2450 [==============================] - 75s 30ms/step - loss: 0.0237 - accuracy: 0.9925 - val_loss: 0.0084 - val_accuracy: 0.9979\n",
      "\n",
      "Epoch 00014: val_accuracy improved from 0.99735 to 0.99786, saving model to ./Networks\\ColorOperationsDataAugmentation.ckpt\n",
      "Epoch 15/20\n",
      "2450/2450 [==============================] - 74s 30ms/step - loss: 0.0214 - accuracy: 0.9931 - val_loss: 0.0141 - val_accuracy: 0.9967\n",
      "\n",
      "Epoch 00015: val_accuracy did not improve from 0.99786\n",
      "Epoch 16/20\n",
      "2450/2450 [==============================] - 75s 31ms/step - loss: 0.0223 - accuracy: 0.9930 - val_loss: 0.0082 - val_accuracy: 0.9980\n",
      "\n",
      "Epoch 00016: val_accuracy improved from 0.99786 to 0.99804, saving model to ./Networks\\ColorOperationsDataAugmentation.ckpt\n",
      "Epoch 17/20\n",
      "2450/2450 [==============================] - 74s 30ms/step - loss: 0.0213 - accuracy: 0.9935 - val_loss: 0.0095 - val_accuracy: 0.9973\n",
      "\n",
      "Epoch 00017: val_accuracy did not improve from 0.99804\n",
      "Epoch 18/20\n",
      "2450/2450 [==============================] - 74s 30ms/step - loss: 0.0196 - accuracy: 0.9938 - val_loss: 0.0086 - val_accuracy: 0.9979\n",
      "\n",
      "Epoch 00018: val_accuracy did not improve from 0.99804\n",
      "Epoch 19/20\n",
      "2450/2450 [==============================] - 74s 30ms/step - loss: 0.0189 - accuracy: 0.9940 - val_loss: 0.0079 - val_accuracy: 0.9980\n",
      "\n",
      "Epoch 00019: val_accuracy did not improve from 0.99804\n",
      "Epoch 20/20\n",
      "2450/2450 [==============================] - 74s 30ms/step - loss: 0.0199 - accuracy: 0.9934 - val_loss: 0.0083 - val_accuracy: 0.9979\n",
      "\n",
      "Epoch 00020: val_accuracy did not improve from 0.99804\n"
     ]
    }
   ],
   "source": [
    "historyV5 = modelV5.fit(train_dataset, steps_per_epoch = train_size/BATCH_SIZE,\n",
    "          epochs=20, \n",
    "          validation_data = val_dataset, \n",
    "          validation_steps = val_size/BATCH_SIZE,\n",
    "          callbacks = callbacksV5)"
   ]
  },
  {
   "cell_type": "markdown",
   "metadata": {},
   "source": [
    "### Show the learning history"
   ]
  },
  {
   "cell_type": "code",
   "execution_count": 9,
   "metadata": {},
   "outputs": [
    {
     "name": "stdout",
     "output_type": "stream",
     "text": [
      "dict_keys(['loss', 'accuracy', 'val_loss', 'val_accuracy', 'lr'])\n"
     ]
    },
    {
     "data": {
      "image/png": "[encoded data removed]",
      "text/plain": [
       "<Figure size 432x288 with 1 Axes>"
      ]
     },
     "metadata": {
      "needs_background": "light"
     },
     "output_type": "display_data"
    },
    {
     "data": {
      "image/png": "[encoded data removed]",
      "text/plain": [
       "<Figure size 432x288 with 1 Axes>"
      ]
     },
     "metadata": {
      "needs_background": "light"
     },
     "output_type": "display_data"
    }
   ],
   "source": [
    "show_history(historyV5)"
   ]
  },
  {
   "cell_type": "markdown",
   "metadata": {},
   "source": [
    "### Load weights from file and test with validation and test dataset"
   ]
  },
  {
   "cell_type": "code",
   "execution_count": 10,
   "metadata": {
    "tags": []
   },
   "outputs": [
    {
     "name": "stdout",
     "output_type": "stream",
     "text": [
      "198/198 - 3s - loss: 0.0659 - accuracy: 0.9857\n",
      "612/612 - 26s - loss: 0.0078 - accuracy: 0.9978\n"
     ]
    }
   ],
   "source": [
    "modelV5.load_weights(file_pathV5)\n",
    "\n",
    "evalV5 = modelV5.evaluate(test_dataset, verbose=2)\n",
    "valV5 = modelV5.evaluate(val_dataset, steps=val_size/BATCH_SIZE, verbose=2)"
   ]
  }
 ],
 "metadata": {
  "interpreter": {
   "hash": "d0da461f411a8ab525eeaf0c070efcfd41d80a0fa07fe716f6def51d18e38691"
  },
  "kernelspec": {
   "display_name": "Python 3.8.0 ('tf_gpu')",
   "language": "python",
   "name": "python3"
  },
  "language_info": {
   "codemirror_mode": {
    "name": "ipython",
    "version": 3
   },
   "file_extension": ".py",
   "mimetype": "text/x-python",
   "name": "python",
   "nbconvert_exporter": "python",
   "pygments_lexer": "ipython3",
   "version": "3.8.0"
  },
  "orig_nbformat": 4
 },
 "nbformat": 4,
 "nbformat_minor": 2
}
