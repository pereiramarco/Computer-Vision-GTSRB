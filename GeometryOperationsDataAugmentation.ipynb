{
 "cells": [
  {
   "cell_type": "markdown",
   "metadata": {},
   "source": [
    "# Version VI - Geometry operations data augmentation"
   ]
  },
  {
   "cell_type": "markdown",
   "metadata": {},
   "source": [
    "### Imports and initial setup"
   ]
  },
  {
   "cell_type": "code",
   "execution_count": 1,
   "metadata": {},
   "outputs": [
    {
     "name": "stdout",
     "output_type": "stream",
     "text": [
      "importing Jupyter notebook from InitialSetup.ipynb\n",
      "Num GPUs Available:  1\n",
      "Total images in validatation dataset:  12630\n",
      "(32, 32, 3) (43,)\n",
      "Total images in dataset:  39209\n"
     ]
    }
   ],
   "source": [
    "import import_ipynb\n",
    "\n",
    "from InitialSetup import dataset, BATCH_SIZE, tf, prepare_callbacks, model_VI, show_history, test_dataset, AUTOTUNE, process_rotate, process_crop, process_translate, process_shear"
   ]
  },
  {
   "cell_type": "code",
   "execution_count": 2,
   "metadata": {},
   "outputs": [],
   "source": [
    "dataSoloV6 = dataset\n",
    "dataSoloV6 = dataSoloV6.concatenate(dataset.map(process_rotate))\n",
    "dataSoloV6 = dataSoloV6.concatenate(dataset.map(process_shear))\n",
    "dataSoloV6 = dataSoloV6.concatenate(dataset.map(process_translate))\n",
    "dataSoloV6 = dataSoloV6.concatenate(dataset.map(process_crop))\n",
    "\n",
    "dataSoloV6_size = tf.data.experimental.cardinality(dataSoloV6).numpy()\n",
    "\n",
    "dataSoloV6 = dataSoloV6.cache()\n",
    "dataSoloV6 = dataSoloV6.shuffle(buffer_size = dataSoloV6_size)\n",
    "dataSoloV6 = dataSoloV6.batch(batch_size = BATCH_SIZE)\n",
    "dataSoloV6 = dataSoloV6.prefetch(buffer_size = AUTOTUNE)\n",
    "dataSoloV6 = dataSoloV6.repeat()\n",
    "\n",
    "train_size = int(0.8* dataSoloV6_size)\n",
    "val_size = int(0.2* dataSoloV6_size)\n",
    "\n",
    "train_dataset = dataSoloV6.take(train_size)\n",
    "val_dataset = dataSoloV6.skip(train_size)"
   ]
  },
  {
   "cell_type": "markdown",
   "metadata": {},
   "source": [
    "### Setup model and save place"
   ]
  },
  {
   "cell_type": "code",
   "execution_count": 3,
   "metadata": {},
   "outputs": [],
   "source": [
    "modelV6 = model_VI(43, 32, 3)\n",
    "\n",
    "file_pathV6 = './Networks/GeometryOperationsDataAugmentation.ckpt'\n",
    "\n",
    "callbacksV6 = prepare_callbacks(file_pathV6)"
   ]
  },
  {
   "cell_type": "markdown",
   "metadata": {},
   "source": [
    "### Train model"
   ]
  },
  {
   "cell_type": "code",
   "execution_count": 4,
   "metadata": {
    "tags": []
   },
   "outputs": [
    {
     "name": "stdout",
     "output_type": "stream",
     "text": [
      "Epoch 1/20\n",
      "2450/2450 [==============================] - 120s 29ms/step - loss: 2.2599 - accuracy: 0.4110 - val_loss: 0.2273 - val_accuracy: 0.9360\n",
      "\n",
      "Epoch 00001: val_accuracy improved from -inf to 0.93605, saving model to ./Networks\\GeometryOperationsDataAugmentation.ckpt\n",
      "Epoch 2/20\n",
      "2450/2450 [==============================] - 73s 30ms/step - loss: 0.3654 - accuracy: 0.8893 - val_loss: 0.0622 - val_accuracy: 0.9827\n",
      "\n",
      "Epoch 00002: val_accuracy improved from 0.93605 to 0.98272, saving model to ./Networks\\GeometryOperationsDataAugmentation.ckpt\n",
      "Epoch 3/20\n",
      "2450/2450 [==============================] - 71s 29ms/step - loss: 0.1597 - accuracy: 0.9520 - val_loss: 0.0279 - val_accuracy: 0.9931\n",
      "\n",
      "Epoch 00003: val_accuracy improved from 0.98272 to 0.99307, saving model to ./Networks\\GeometryOperationsDataAugmentation.ckpt\n",
      "Epoch 4/20\n",
      "2450/2450 [==============================] - 71s 29ms/step - loss: 0.0958 - accuracy: 0.9721 - val_loss: 0.0140 - val_accuracy: 0.9963\n",
      "\n",
      "Epoch 00004: val_accuracy improved from 0.99307 to 0.99630, saving model to ./Networks\\GeometryOperationsDataAugmentation.ckpt\n",
      "Epoch 5/20\n",
      "2450/2450 [==============================] - 73s 30ms/step - loss: 0.0611 - accuracy: 0.9813 - val_loss: 0.0143 - val_accuracy: 0.9965\n",
      "\n",
      "Epoch 00005: val_accuracy improved from 0.99630 to 0.99648, saving model to ./Networks\\GeometryOperationsDataAugmentation.ckpt\n",
      "Epoch 6/20\n",
      "2450/2450 [==============================] - 71s 29ms/step - loss: 0.0426 - accuracy: 0.9869 - val_loss: 0.0041 - val_accuracy: 0.9990\n",
      "\n",
      "Epoch 00006: val_accuracy improved from 0.99648 to 0.99898, saving model to ./Networks\\GeometryOperationsDataAugmentation.ckpt\n",
      "Epoch 7/20\n",
      "2450/2450 [==============================] - 71s 29ms/step - loss: 0.0367 - accuracy: 0.9883 - val_loss: 0.0037 - val_accuracy: 0.9993\n",
      "\n",
      "Epoch 00007: val_accuracy improved from 0.99898 to 0.99929, saving model to ./Networks\\GeometryOperationsDataAugmentation.ckpt\n",
      "Epoch 8/20\n",
      "2450/2450 [==============================] - 71s 29ms/step - loss: 0.0308 - accuracy: 0.9908 - val_loss: 0.0058 - val_accuracy: 0.9991\n",
      "\n",
      "Epoch 00008: val_accuracy did not improve from 0.99929\n",
      "Epoch 9/20\n",
      "2450/2450 [==============================] - 74s 30ms/step - loss: 0.0250 - accuracy: 0.9920 - val_loss: 0.0015 - val_accuracy: 0.9997\n",
      "\n",
      "Epoch 00009: val_accuracy improved from 0.99929 to 0.99972, saving model to ./Networks\\GeometryOperationsDataAugmentation.ckpt\n",
      "Epoch 10/20\n",
      "2450/2450 [==============================] - 71s 29ms/step - loss: 0.0215 - accuracy: 0.9933 - val_loss: 0.0019 - val_accuracy: 0.9997\n",
      "\n",
      "Epoch 00010: val_accuracy did not improve from 0.99972\n",
      "Epoch 11/20\n",
      "2450/2450 [==============================] - 74s 30ms/step - loss: 0.0186 - accuracy: 0.9940 - val_loss: 8.7321e-04 - val_accuracy: 0.9998\n",
      "\n",
      "Epoch 00011: val_accuracy improved from 0.99972 to 0.99985, saving model to ./Networks\\GeometryOperationsDataAugmentation.ckpt\n",
      "Epoch 12/20\n",
      "2450/2450 [==============================] - 73s 30ms/step - loss: 0.0167 - accuracy: 0.9949 - val_loss: 7.0385e-04 - val_accuracy: 1.0000\n",
      "\n",
      "Epoch 00012: val_accuracy improved from 0.99985 to 0.99997, saving model to ./Networks\\GeometryOperationsDataAugmentation.ckpt\n",
      "Epoch 13/20\n",
      "2450/2450 [==============================] - 73s 30ms/step - loss: 0.0169 - accuracy: 0.9950 - val_loss: 0.0028 - val_accuracy: 0.9994\n",
      "\n",
      "Epoch 00013: val_accuracy did not improve from 0.99997\n",
      "Epoch 14/20\n",
      "2450/2450 [==============================] - 73s 30ms/step - loss: 0.0156 - accuracy: 0.9955 - val_loss: 8.6878e-04 - val_accuracy: 0.9998\n",
      "\n",
      "Epoch 00014: val_accuracy did not improve from 0.99997\n",
      "Epoch 15/20\n",
      "2450/2450 [==============================] - 73s 30ms/step - loss: 0.0146 - accuracy: 0.9955 - val_loss: 2.8379e-04 - val_accuracy: 0.9999\n",
      "\n",
      "Epoch 00015: val_accuracy did not improve from 0.99997\n",
      "Epoch 16/20\n",
      "2450/2450 [==============================] - 73s 30ms/step - loss: 0.0114 - accuracy: 0.9964 - val_loss: 0.0017 - val_accuracy: 0.9998\n",
      "\n",
      "Epoch 00016: val_accuracy did not improve from 0.99997\n",
      "Epoch 17/20\n",
      "2450/2450 [==============================] - 73s 30ms/step - loss: 0.0102 - accuracy: 0.9967 - val_loss: 2.7417e-04 - val_accuracy: 0.9999\n",
      "\n",
      "Epoch 00017: val_accuracy did not improve from 0.99997\n",
      "Epoch 18/20\n",
      "2450/2450 [==============================] - 73s 30ms/step - loss: 0.0112 - accuracy: 0.9964 - val_loss: 3.4835e-04 - val_accuracy: 0.9999\n",
      "\n",
      "Epoch 00018: val_accuracy did not improve from 0.99997\n",
      "Epoch 19/20\n",
      "2450/2450 [==============================] - 73s 30ms/step - loss: 0.0111 - accuracy: 0.9966 - val_loss: 4.9217e-04 - val_accuracy: 0.9999\n",
      "\n",
      "Epoch 00019: val_accuracy did not improve from 0.99997\n",
      "Epoch 20/20\n",
      "2450/2450 [==============================] - 72s 30ms/step - loss: 0.0095 - accuracy: 0.9970 - val_loss: 0.0012 - val_accuracy: 0.9997\n",
      "\n",
      "Epoch 00020: val_accuracy did not improve from 0.99997\n",
      "\n",
      "Epoch 00020: ReduceLROnPlateau reducing learning rate to 4.999999873689376e-05.\n",
      "Epoch 00020: early stopping\n"
     ]
    }
   ],
   "source": [
    "historyV6 = modelV6.fit(train_dataset, steps_per_epoch = train_size/BATCH_SIZE,\n",
    "          epochs=20, \n",
    "          validation_data = val_dataset, \n",
    "          validation_steps = val_size/BATCH_SIZE,\n",
    "          callbacks = callbacksV6)"
   ]
  },
  {
   "cell_type": "markdown",
   "metadata": {},
   "source": [
    "### Show the learning history"
   ]
  },
  {
   "cell_type": "code",
   "execution_count": 5,
   "metadata": {},
   "outputs": [
    {
     "name": "stdout",
     "output_type": "stream",
     "text": [
      "dict_keys(['loss', 'accuracy', 'val_loss', 'val_accuracy', 'lr'])\n"
     ]
    },
    {
     "data": {
      "image/png": "[encoded data removed]",
      "text/plain": [
       "<Figure size 432x288 with 1 Axes>"
      ]
     },
     "metadata": {
      "needs_background": "light"
     },
     "output_type": "display_data"
    },
    {
     "data": {
      "image/png": "[encoded data removed]",
      "text/plain": [
       "<Figure size 432x288 with 1 Axes>"
      ]
     },
     "metadata": {
      "needs_background": "light"
     },
     "output_type": "display_data"
    }
   ],
   "source": [
    "show_history(historyV6)"
   ]
  },
  {
   "cell_type": "markdown",
   "metadata": {},
   "source": [
    "### Load weights from file and test with validation and test dataset"
   ]
  },
  {
   "cell_type": "code",
   "execution_count": 6,
   "metadata": {
    "tags": []
   },
   "outputs": [
    {
     "name": "stdout",
     "output_type": "stream",
     "text": [
      "198/198 - 2s - loss: 0.0406 - accuracy: 0.9884\n",
      "612/612 - 24s - loss: 8.8393e-04 - accuracy: 0.9999\n"
     ]
    }
   ],
   "source": [
    "modelV6.load_weights(file_pathV6)\n",
    "\n",
    "evalV6 = modelV6.evaluate(test_dataset, verbose=2)\n",
    "valV6 = modelV6.evaluate(val_dataset, steps=val_size/BATCH_SIZE, verbose=2)"
   ]
  }
 ],
 "metadata": {
  "interpreter": {
   "hash": "d0da461f411a8ab525eeaf0c070efcfd41d80a0fa07fe716f6def51d18e38691"
  },
  "kernelspec": {
   "display_name": "Python 3.8.0 ('tf_gpu')",
   "language": "python",
   "name": "python3"
  },
  "language_info": {
   "codemirror_mode": {
    "name": "ipython",
    "version": 3
   },
   "file_extension": ".py",
   "mimetype": "text/x-python",
   "name": "python",
   "nbconvert_exporter": "python",
   "pygments_lexer": "ipython3",
   "version": "3.8.0"
  },
  "orig_nbformat": 4
 },
 "nbformat": 4,
 "nbformat_minor": 2
}
