{
 "cells": [
  {
   "cell_type": "markdown",
   "metadata": {},
   "source": [
    "# Version IX - Ensemble Massive Data Augmentation (10 models, Color operations + Geometric operations Data Augmentation)"
   ]
  },
  {
   "cell_type": "markdown",
   "metadata": {},
   "source": [
    "### Imports and initial setup"
   ]
  },
  {
   "cell_type": "code",
   "execution_count": 1,
   "metadata": {},
   "outputs": [
    {
     "name": "stdout",
     "output_type": "stream",
     "text": [
      "importing Jupyter notebook from InitialSetup.ipynb\n",
      "Num GPUs Available:  1\n",
      "Total images in validatation dataset:  12630\n",
      "(32, 32, 3) (43,)\n",
      "Total images in dataset:  39209\n"
     ]
    }
   ],
   "source": [
    "import import_ipynb\n",
    "\n",
    "from InitialSetup import dataset, BATCH_SIZE, tf, prepare_callbacks, test_dataset_length, AUTOTUNE, train_models, load_weights_read, evaluate_models, get_labels_logits_and_preds, get_class_preds, get_class_from_sum_of_logits, np, BatchNormalization, LeakyReLU, process_hue, process_contrast, process_brightness, process_saturation, process_rotate, process_shear, process_translate, process_crop\n",
    "\n",
    "NUM_MODELS = 10"
   ]
  },
  {
   "cell_type": "markdown",
   "metadata": {},
   "source": [
    "### Prepare dataset"
   ]
  },
  {
   "cell_type": "code",
   "execution_count": 2,
   "metadata": {},
   "outputs": [],
   "source": [
    "BATCH_SIZE = 64\n",
    "\n",
    "dataSolo = dataset\n",
    "# color ops\n",
    "dataSolo = dataSolo.map(process_brightness)\n",
    "dataSolo = dataSolo.concatenate(dataset.map(process_contrast))\n",
    "dataSolo = dataSolo.concatenate(dataset.map(process_hue))\n",
    "dataSolo = dataSolo.concatenate(dataset.map(process_saturation))\n",
    "\n",
    "#geometry ops\n",
    "dataSolo = dataSolo.concatenate(dataset.map(process_rotate))\n",
    "dataSolo = dataSolo.concatenate(dataset.map(process_shear))\n",
    "dataSolo = dataSolo.concatenate(dataset.map(process_translate))\n",
    "dataSolo = dataSolo.concatenate(dataset.map(process_crop))\n",
    "\n",
    "dataSolo_size = tf.data.experimental.cardinality(dataSolo).numpy()\n",
    "\n",
    "dataSolo = dataSolo.cache()\n",
    "dataSolo = dataSolo.shuffle(buffer_size = dataSolo_size)\n",
    "dataSolo = dataSolo.batch(batch_size = BATCH_SIZE)\n",
    "dataSolo = dataSolo.prefetch(buffer_size = AUTOTUNE)\n",
    "\n",
    "train_size = int(0.8* dataSolo_size)\n",
    "val_size = int(0.2* dataSolo_size)\n",
    "\n",
    "train_dataset = dataSolo.take(train_size)\n",
    "val_dataset = dataSolo.skip(train_size)\n",
    "\n",
    "file_path_prefix = './Networks/ensembles/V2/V2'    "
   ]
  },
  {
   "cell_type": "markdown",
   "metadata": {},
   "source": [
    "### Setup models and save folder"
   ]
  },
  {
   "cell_type": "code",
   "execution_count": 3,
   "metadata": {},
   "outputs": [
    {
     "name": "stdout",
     "output_type": "stream",
     "text": [
      "Epoch 1/20\n",
      "3920/3920 [==============================] - 197s 28ms/step - loss: 1.9008 - accuracy: 0.5497 - val_loss: 0.1602 - val_accuracy: 0.9577\n",
      "\n",
      "Epoch 00001: val_accuracy improved from -inf to 0.95768, saving model to ./Networks/ensembles/V2/V2_07\\cp.ckpt\n",
      "Epoch 2/20\n",
      "3920/3920 [==============================] - 115s 29ms/step - loss: 0.2883 - accuracy: 0.9190 - val_loss: 0.0686 - val_accuracy: 0.9814\n",
      "\n",
      "Epoch 00002: val_accuracy improved from 0.95768 to 0.98141, saving model to ./Networks/ensembles/V2/V2_07\\cp.ckpt\n",
      "Epoch 3/20\n",
      "3920/3920 [==============================] - 115s 29ms/step - loss: 0.1454 - accuracy: 0.9578 - val_loss: 0.0359 - val_accuracy: 0.9903\n",
      "\n",
      "Epoch 00003: val_accuracy improved from 0.98141 to 0.99025, saving model to ./Networks/ensembles/V2/V2_07\\cp.ckpt\n",
      "Epoch 4/20\n",
      "3920/3920 [==============================] - 118s 30ms/step - loss: 0.0971 - accuracy: 0.9711 - val_loss: 0.0289 - val_accuracy: 0.9916\n",
      "\n",
      "Epoch 00004: val_accuracy improved from 0.99025 to 0.99162, saving model to ./Networks/ensembles/V2/V2_07\\cp.ckpt\n",
      "Epoch 5/20\n",
      "3920/3920 [==============================] - 115s 29ms/step - loss: 0.0714 - accuracy: 0.9788 - val_loss: 0.0216 - val_accuracy: 0.9937\n",
      "\n",
      "Epoch 00005: val_accuracy improved from 0.99162 to 0.99372, saving model to ./Networks/ensembles/V2/V2_07\\cp.ckpt\n",
      "Epoch 6/20\n",
      "3920/3920 [==============================] - 114s 29ms/step - loss: 0.0577 - accuracy: 0.9824 - val_loss: 0.0178 - val_accuracy: 0.9954\n",
      "\n",
      "Epoch 00006: val_accuracy improved from 0.99372 to 0.99543, saving model to ./Networks/ensembles/V2/V2_07\\cp.ckpt\n",
      "Epoch 7/20\n",
      "3920/3920 [==============================] - 114s 29ms/step - loss: 0.0517 - accuracy: 0.9846 - val_loss: 0.0145 - val_accuracy: 0.9965\n",
      "\n",
      "Epoch 00007: val_accuracy improved from 0.99543 to 0.99653, saving model to ./Networks/ensembles/V2/V2_07\\cp.ckpt\n",
      "Epoch 8/20\n",
      "3920/3920 [==============================] - 114s 29ms/step - loss: 0.0458 - accuracy: 0.9861 - val_loss: 0.0174 - val_accuracy: 0.9951\n",
      "\n",
      "Epoch 00008: val_accuracy did not improve from 0.99653\n",
      "Epoch 9/20\n",
      "3920/3920 [==============================] - 112s 29ms/step - loss: 0.0391 - accuracy: 0.9882 - val_loss: 0.0155 - val_accuracy: 0.9959\n",
      "\n",
      "Epoch 00009: val_accuracy did not improve from 0.99653\n",
      "Epoch 10/20\n",
      "3920/3920 [==============================] - 114s 29ms/step - loss: 0.0367 - accuracy: 0.9887 - val_loss: 0.0129 - val_accuracy: 0.9965\n",
      "\n",
      "Epoch 00010: val_accuracy improved from 0.99653 to 0.99654, saving model to ./Networks/ensembles/V2/V2_07\\cp.ckpt\n",
      "Epoch 11/20\n",
      "3920/3920 [==============================] - 113s 29ms/step - loss: 0.0334 - accuracy: 0.9895 - val_loss: 0.0127 - val_accuracy: 0.9968\n",
      "\n",
      "Epoch 00011: val_accuracy improved from 0.99654 to 0.99675, saving model to ./Networks/ensembles/V2/V2_07\\cp.ckpt\n",
      "Epoch 12/20\n",
      "3920/3920 [==============================] - 113s 29ms/step - loss: 0.0326 - accuracy: 0.9899 - val_loss: 0.0095 - val_accuracy: 0.9975\n",
      "\n",
      "Epoch 00012: val_accuracy improved from 0.99675 to 0.99748, saving model to ./Networks/ensembles/V2/V2_07\\cp.ckpt\n",
      "Epoch 13/20\n",
      "3920/3920 [==============================] - 113s 29ms/step - loss: 0.0310 - accuracy: 0.9905 - val_loss: 0.0120 - val_accuracy: 0.9972\n",
      "\n",
      "Epoch 00013: val_accuracy did not improve from 0.99748\n",
      "Epoch 14/20\n",
      "3920/3920 [==============================] - 113s 29ms/step - loss: 0.0281 - accuracy: 0.9910 - val_loss: 0.0073 - val_accuracy: 0.9980\n",
      "\n",
      "Epoch 00014: val_accuracy improved from 0.99748 to 0.99801, saving model to ./Networks/ensembles/V2/V2_07\\cp.ckpt\n",
      "Epoch 15/20\n",
      "3920/3920 [==============================] - 112s 29ms/step - loss: 0.0275 - accuracy: 0.9915 - val_loss: 0.0079 - val_accuracy: 0.9979\n",
      "\n",
      "Epoch 00015: val_accuracy did not improve from 0.99801\n",
      "Epoch 16/20\n",
      "3920/3920 [==============================] - 115s 29ms/step - loss: 0.0241 - accuracy: 0.9925 - val_loss: 0.0074 - val_accuracy: 0.9981\n",
      "\n",
      "Epoch 00016: val_accuracy improved from 0.99801 to 0.99812, saving model to ./Networks/ensembles/V2/V2_07\\cp.ckpt\n",
      "Epoch 17/20\n",
      "3920/3920 [==============================] - 113s 29ms/step - loss: 0.0246 - accuracy: 0.9925 - val_loss: 0.0082 - val_accuracy: 0.9982\n",
      "\n",
      "Epoch 00017: val_accuracy improved from 0.99812 to 0.99815, saving model to ./Networks/ensembles/V2/V2_07\\cp.ckpt\n",
      "Epoch 18/20\n",
      "3920/3920 [==============================] - 113s 29ms/step - loss: 0.0226 - accuracy: 0.9933 - val_loss: 0.0087 - val_accuracy: 0.9976\n",
      "\n",
      "Epoch 00018: val_accuracy did not improve from 0.99815\n",
      "Epoch 19/20\n",
      "3920/3920 [==============================] - 113s 29ms/step - loss: 0.0222 - accuracy: 0.9932 - val_loss: 0.0072 - val_accuracy: 0.9979\n",
      "\n",
      "Epoch 00019: val_accuracy did not improve from 0.99815\n",
      "Epoch 20/20\n",
      "3920/3920 [==============================] - 113s 29ms/step - loss: 0.0208 - accuracy: 0.9934 - val_loss: 0.0063 - val_accuracy: 0.9983\n",
      "\n",
      "Epoch 00020: val_accuracy improved from 0.99815 to 0.99826, saving model to ./Networks/ensembles/V2/V2_07\\cp.ckpt\n",
      "Epoch 1/20\n",
      "3920/3920 [==============================] - 114s 29ms/step - loss: 1.9121 - accuracy: 0.5480 - val_loss: 0.1478 - val_accuracy: 0.9601\n",
      "\n",
      "Epoch 00001: val_accuracy improved from -inf to 0.96013, saving model to ./Networks/ensembles/V2/V2_08\\cp.ckpt\n",
      "Epoch 2/20\n",
      "3920/3920 [==============================] - 114s 29ms/step - loss: 0.2874 - accuracy: 0.9189 - val_loss: 0.0674 - val_accuracy: 0.9821\n",
      "\n",
      "Epoch 00002: val_accuracy improved from 0.96013 to 0.98211, saving model to ./Networks/ensembles/V2/V2_08\\cp.ckpt\n",
      "Epoch 3/20\n",
      "3920/3920 [==============================] - 113s 29ms/step - loss: 0.1446 - accuracy: 0.9578 - val_loss: 0.0454 - val_accuracy: 0.9869\n",
      "\n",
      "Epoch 00003: val_accuracy improved from 0.98211 to 0.98689, saving model to ./Networks/ensembles/V2/V2_08\\cp.ckpt\n",
      "Epoch 4/20\n",
      "3920/3920 [==============================] - 113s 29ms/step - loss: 0.0936 - accuracy: 0.9724 - val_loss: 0.0480 - val_accuracy: 0.9874\n",
      "\n",
      "Epoch 00004: val_accuracy improved from 0.98689 to 0.98742, saving model to ./Networks/ensembles/V2/V2_08\\cp.ckpt\n",
      "Epoch 5/20\n",
      "3920/3920 [==============================] - 113s 29ms/step - loss: 0.0738 - accuracy: 0.9776 - val_loss: 0.0223 - val_accuracy: 0.9944\n",
      "\n",
      "Epoch 00005: val_accuracy improved from 0.98742 to 0.99438, saving model to ./Networks/ensembles/V2/V2_08\\cp.ckpt\n",
      "Epoch 6/20\n",
      "3920/3920 [==============================] - 114s 29ms/step - loss: 0.0568 - accuracy: 0.9827 - val_loss: 0.0196 - val_accuracy: 0.9947\n",
      "\n",
      "Epoch 00006: val_accuracy improved from 0.99438 to 0.99468, saving model to ./Networks/ensembles/V2/V2_08\\cp.ckpt\n",
      "Epoch 7/20\n",
      "3920/3920 [==============================] - 113s 29ms/step - loss: 0.0503 - accuracy: 0.9853 - val_loss: 0.0138 - val_accuracy: 0.9962\n",
      "\n",
      "Epoch 00007: val_accuracy improved from 0.99468 to 0.99624, saving model to ./Networks/ensembles/V2/V2_08\\cp.ckpt\n",
      "Epoch 8/20\n",
      "3920/3920 [==============================] - 112s 29ms/step - loss: 0.0463 - accuracy: 0.9862 - val_loss: 0.0131 - val_accuracy: 0.9961\n",
      "\n",
      "Epoch 00008: val_accuracy did not improve from 0.99624\n",
      "Epoch 9/20\n",
      "3920/3920 [==============================] - 114s 29ms/step - loss: 0.0389 - accuracy: 0.9883 - val_loss: 0.0141 - val_accuracy: 0.9963\n",
      "\n",
      "Epoch 00009: val_accuracy improved from 0.99624 to 0.99629, saving model to ./Networks/ensembles/V2/V2_08\\cp.ckpt\n",
      "Epoch 10/20\n",
      "3920/3920 [==============================] - 114s 29ms/step - loss: 0.0370 - accuracy: 0.9888 - val_loss: 0.0083 - val_accuracy: 0.9978\n",
      "\n",
      "Epoch 00010: val_accuracy improved from 0.99629 to 0.99785, saving model to ./Networks/ensembles/V2/V2_08\\cp.ckpt\n",
      "Epoch 11/20\n",
      "3920/3920 [==============================] - 114s 29ms/step - loss: 0.0323 - accuracy: 0.9900 - val_loss: 0.0098 - val_accuracy: 0.9976\n",
      "\n",
      "Epoch 00011: val_accuracy did not improve from 0.99785\n",
      "Epoch 12/20\n",
      "3920/3920 [==============================] - 115s 29ms/step - loss: 0.0326 - accuracy: 0.9900 - val_loss: 0.0115 - val_accuracy: 0.9968\n",
      "\n",
      "Epoch 00012: val_accuracy did not improve from 0.99785\n",
      "Epoch 13/20\n",
      "3920/3920 [==============================] - 115s 29ms/step - loss: 0.0296 - accuracy: 0.9911 - val_loss: 0.0081 - val_accuracy: 0.9976\n",
      "\n",
      "Epoch 00013: val_accuracy did not improve from 0.99785\n",
      "Epoch 14/20\n",
      "3920/3920 [==============================] - 114s 29ms/step - loss: 0.0270 - accuracy: 0.9920 - val_loss: 0.0080 - val_accuracy: 0.9976\n",
      "\n",
      "Epoch 00014: val_accuracy did not improve from 0.99785\n",
      "Epoch 15/20\n",
      "3920/3920 [==============================] - 113s 29ms/step - loss: 0.0270 - accuracy: 0.9919 - val_loss: 0.0101 - val_accuracy: 0.9976\n",
      "\n",
      "Epoch 00015: val_accuracy did not improve from 0.99785\n",
      "Epoch 16/20\n",
      "3920/3920 [==============================] - 113s 29ms/step - loss: 0.0247 - accuracy: 0.9924 - val_loss: 0.0081 - val_accuracy: 0.9981\n",
      "\n",
      "Epoch 00016: val_accuracy improved from 0.99785 to 0.99809, saving model to ./Networks/ensembles/V2/V2_08\\cp.ckpt\n",
      "Epoch 17/20\n",
      "3920/3920 [==============================] - 113s 29ms/step - loss: 0.0239 - accuracy: 0.9927 - val_loss: 0.0079 - val_accuracy: 0.9976\n",
      "\n",
      "Epoch 00017: val_accuracy did not improve from 0.99809\n",
      "Epoch 18/20\n",
      "3920/3920 [==============================] - 114s 29ms/step - loss: 0.0235 - accuracy: 0.9927 - val_loss: 0.0066 - val_accuracy: 0.9986\n",
      "\n",
      "Epoch 00018: val_accuracy improved from 0.99809 to 0.99858, saving model to ./Networks/ensembles/V2/V2_08\\cp.ckpt\n",
      "Epoch 19/20\n",
      "3920/3920 [==============================] - 113s 29ms/step - loss: 0.0222 - accuracy: 0.9931 - val_loss: 0.0056 - val_accuracy: 0.9986\n",
      "\n",
      "Epoch 00019: val_accuracy did not improve from 0.99858\n",
      "Epoch 20/20\n",
      "3920/3920 [==============================] - 114s 29ms/step - loss: 0.0210 - accuracy: 0.9937 - val_loss: 0.0060 - val_accuracy: 0.9983\n",
      "\n",
      "Epoch 00020: val_accuracy did not improve from 0.99858\n",
      "Epoch 1/20\n",
      "3920/3920 [==============================] - 114s 29ms/step - loss: 1.8991 - accuracy: 0.5473 - val_loss: 0.1589 - val_accuracy: 0.9598\n",
      "\n",
      "Epoch 00001: val_accuracy improved from -inf to 0.95985, saving model to ./Networks/ensembles/V2/V2_09\\cp.ckpt\n",
      "Epoch 2/20\n",
      "3920/3920 [==============================] - 114s 29ms/step - loss: 0.2839 - accuracy: 0.9192 - val_loss: 0.0612 - val_accuracy: 0.9834\n",
      "\n",
      "Epoch 00002: val_accuracy improved from 0.95985 to 0.98337, saving model to ./Networks/ensembles/V2/V2_09\\cp.ckpt\n",
      "Epoch 3/20\n",
      "3920/3920 [==============================] - 114s 29ms/step - loss: 0.1441 - accuracy: 0.9578 - val_loss: 0.0396 - val_accuracy: 0.9894\n",
      "\n",
      "Epoch 00003: val_accuracy improved from 0.98337 to 0.98936, saving model to ./Networks/ensembles/V2/V2_09\\cp.ckpt\n",
      "Epoch 4/20\n",
      "3920/3920 [==============================] - 114s 29ms/step - loss: 0.0987 - accuracy: 0.9707 - val_loss: 0.0393 - val_accuracy: 0.9900\n",
      "\n",
      "Epoch 00004: val_accuracy improved from 0.98936 to 0.99003, saving model to ./Networks/ensembles/V2/V2_09\\cp.ckpt\n",
      "Epoch 5/20\n",
      "3920/3920 [==============================] - 115s 29ms/step - loss: 0.0717 - accuracy: 0.9788 - val_loss: 0.0199 - val_accuracy: 0.9946\n",
      "\n",
      "Epoch 00005: val_accuracy improved from 0.99003 to 0.99455, saving model to ./Networks/ensembles/V2/V2_09\\cp.ckpt\n",
      "Epoch 6/20\n",
      "3920/3920 [==============================] - 113s 29ms/step - loss: 0.0589 - accuracy: 0.9824 - val_loss: 0.0145 - val_accuracy: 0.9963\n",
      "\n",
      "Epoch 00006: val_accuracy improved from 0.99455 to 0.99634, saving model to ./Networks/ensembles/V2/V2_09\\cp.ckpt\n",
      "Epoch 7/20\n",
      "3920/3920 [==============================] - 113s 29ms/step - loss: 0.0503 - accuracy: 0.9851 - val_loss: 0.0152 - val_accuracy: 0.9964\n",
      "\n",
      "Epoch 00007: val_accuracy improved from 0.99634 to 0.99640, saving model to ./Networks/ensembles/V2/V2_09\\cp.ckpt\n",
      "Epoch 8/20\n",
      "3920/3920 [==============================] - 114s 29ms/step - loss: 0.0450 - accuracy: 0.9863 - val_loss: 0.0124 - val_accuracy: 0.9961\n",
      "\n",
      "Epoch 00008: val_accuracy did not improve from 0.99640\n",
      "Epoch 9/20\n",
      "3920/3920 [==============================] - 114s 29ms/step - loss: 0.0414 - accuracy: 0.9877 - val_loss: 0.0145 - val_accuracy: 0.9967\n",
      "\n",
      "Epoch 00009: val_accuracy improved from 0.99640 to 0.99672, saving model to ./Networks/ensembles/V2/V2_09\\cp.ckpt\n",
      "Epoch 10/20\n",
      "3920/3920 [==============================] - 114s 29ms/step - loss: 0.0356 - accuracy: 0.9891 - val_loss: 0.0106 - val_accuracy: 0.9971\n",
      "\n",
      "Epoch 00010: val_accuracy improved from 0.99672 to 0.99715, saving model to ./Networks/ensembles/V2/V2_09\\cp.ckpt\n",
      "Epoch 11/20\n",
      "3920/3920 [==============================] - 113s 29ms/step - loss: 0.0320 - accuracy: 0.9899 - val_loss: 0.0121 - val_accuracy: 0.9965\n",
      "\n",
      "Epoch 00011: val_accuracy did not improve from 0.99715\n",
      "Epoch 12/20\n",
      "3920/3920 [==============================] - 113s 29ms/step - loss: 0.0305 - accuracy: 0.9907 - val_loss: 0.0101 - val_accuracy: 0.9973\n",
      "\n",
      "Epoch 00012: val_accuracy improved from 0.99715 to 0.99732, saving model to ./Networks/ensembles/V2/V2_09\\cp.ckpt\n",
      "Epoch 13/20\n",
      "3920/3920 [==============================] - 113s 29ms/step - loss: 0.0299 - accuracy: 0.9909 - val_loss: 0.0112 - val_accuracy: 0.9969\n",
      "\n",
      "Epoch 00013: val_accuracy did not improve from 0.99732\n",
      "Epoch 14/20\n",
      "3920/3920 [==============================] - 112s 29ms/step - loss: 0.0286 - accuracy: 0.9912 - val_loss: 0.0074 - val_accuracy: 0.9980\n",
      "\n",
      "Epoch 00014: val_accuracy improved from 0.99732 to 0.99799, saving model to ./Networks/ensembles/V2/V2_09\\cp.ckpt\n",
      "Epoch 15/20\n",
      "3920/3920 [==============================] - 113s 29ms/step - loss: 0.0270 - accuracy: 0.9920 - val_loss: 0.0064 - val_accuracy: 0.9981\n",
      "\n",
      "Epoch 00015: val_accuracy improved from 0.99799 to 0.99814, saving model to ./Networks/ensembles/V2/V2_09\\cp.ckpt\n",
      "Epoch 16/20\n",
      "3920/3920 [==============================] - 113s 29ms/step - loss: 0.0241 - accuracy: 0.9923 - val_loss: 0.0552 - val_accuracy: 0.9892\n",
      "\n",
      "Epoch 00016: val_accuracy did not improve from 0.99814\n",
      "Epoch 17/20\n",
      "3920/3920 [==============================] - 113s 29ms/step - loss: 0.0244 - accuracy: 0.9925 - val_loss: 0.0087 - val_accuracy: 0.9979\n",
      "\n",
      "Epoch 00017: val_accuracy did not improve from 0.99814\n",
      "Epoch 18/20\n",
      "3920/3920 [==============================] - 113s 29ms/step - loss: 0.0242 - accuracy: 0.9927 - val_loss: 0.0083 - val_accuracy: 0.9980\n",
      "\n",
      "Epoch 00018: val_accuracy did not improve from 0.99814\n",
      "Epoch 19/20\n",
      "3920/3920 [==============================] - 113s 29ms/step - loss: 0.0213 - accuracy: 0.9933 - val_loss: 0.0066 - val_accuracy: 0.9981\n",
      "\n",
      "Epoch 00019: val_accuracy did not improve from 0.99814\n",
      "Epoch 20/20\n",
      "3920/3920 [==============================] - 113s 29ms/step - loss: 0.0209 - accuracy: 0.9936 - val_loss: 0.0052 - val_accuracy: 0.9984\n",
      "\n",
      "Epoch 00020: val_accuracy improved from 0.99814 to 0.99842, saving model to ./Networks/ensembles/V2/V2_09\\cp.ckpt\n"
     ]
    }
   ],
   "source": [
    "models_V2, histories_V2 = train_models(dataSolo, train_size/BATCH_SIZE, val_dataset, val_size/BATCH_SIZE, file_path_prefix, NUM_MODELS)"
   ]
  },
  {
   "cell_type": "markdown",
   "metadata": {},
   "source": [
    "### Load Weights and evaluate models"
   ]
  },
  {
   "cell_type": "code",
   "execution_count": 3,
   "metadata": {},
   "outputs": [
    {
     "name": "stdout",
     "output_type": "stream",
     "text": [
      "198/198 - 10s - loss: 0.0337 - accuracy: 0.9910\n",
      "198/198 - 3s - loss: 0.0217 - accuracy: 0.9935\n",
      "198/198 - 3s - loss: 0.0228 - accuracy: 0.9941\n",
      "198/198 - 3s - loss: 0.0208 - accuracy: 0.9945\n",
      "198/198 - 3s - loss: 0.0222 - accuracy: 0.9940\n",
      "198/198 - 3s - loss: 0.0287 - accuracy: 0.9927\n",
      "198/198 - 3s - loss: 0.0200 - accuracy: 0.9949\n",
      "198/198 - 3s - loss: 0.0215 - accuracy: 0.9950\n",
      "198/198 - 3s - loss: 0.0190 - accuracy: 0.9948\n",
      "198/198 - 3s - loss: 0.0225 - accuracy: 0.9940\n",
      "average accuracy: 99.384\n"
     ]
    }
   ],
   "source": [
    "models_V0 = load_weights_read(file_path_prefix, NUM_MODELS)\n",
    "evaluate_models(models_V0, NUM_MODELS)"
   ]
  },
  {
   "cell_type": "code",
   "execution_count": 4,
   "metadata": {},
   "outputs": [
    {
     "name": "stdout",
     "output_type": "stream",
     "text": [
      "WARNING:tensorflow:5 out of the last 9 calls to <function Model.make_predict_function.<locals>.predict_function at 0x000001E3A2F411F0> triggered tf.function retracing. Tracing is expensive and the excessive number of tracings could be due to (1) creating @tf.function repeatedly in a loop, (2) passing tensors with different shapes, (3) passing Python objects instead of tensors. For (1), please define your @tf.function outside of the loop. For (2), @tf.function has experimental_relax_shapes=True option that relaxes argument shapes that can avoid unnecessary retracing. For (3), please refer to https://www.tensorflow.org/guide/function#controlling_retracing and https://www.tensorflow.org/api_docs/python/tf/function for  more details.\n",
      "WARNING:tensorflow:6 out of the last 11 calls to <function Model.make_predict_function.<locals>.predict_function at 0x000001E3A0405310> triggered tf.function retracing. Tracing is expensive and the excessive number of tracings could be due to (1) creating @tf.function repeatedly in a loop, (2) passing tensors with different shapes, (3) passing Python objects instead of tensors. For (1), please define your @tf.function outside of the loop. For (2), @tf.function has experimental_relax_shapes=True option that relaxes argument shapes that can avoid unnecessary retracing. For (3), please refer to https://www.tensorflow.org/guide/function#controlling_retracing and https://www.tensorflow.org/api_docs/python/tf/function for  more details.\n",
      "WARNING:tensorflow:6 out of the last 11 calls to <function Model.make_predict_function.<locals>.predict_function at 0x000001E3A2F88700> triggered tf.function retracing. Tracing is expensive and the excessive number of tracings could be due to (1) creating @tf.function repeatedly in a loop, (2) passing tensors with different shapes, (3) passing Python objects instead of tensors. For (1), please define your @tf.function outside of the loop. For (2), @tf.function has experimental_relax_shapes=True option that relaxes argument shapes that can avoid unnecessary retracing. For (3), please refer to https://www.tensorflow.org/guide/function#controlling_retracing and https://www.tensorflow.org/api_docs/python/tf/function for  more details.\n",
      "WARNING:tensorflow:6 out of the last 11 calls to <function Model.make_predict_function.<locals>.predict_function at 0x000001E3AB523280> triggered tf.function retracing. Tracing is expensive and the excessive number of tracings could be due to (1) creating @tf.function repeatedly in a loop, (2) passing tensors with different shapes, (3) passing Python objects instead of tensors. For (1), please define your @tf.function outside of the loop. For (2), @tf.function has experimental_relax_shapes=True option that relaxes argument shapes that can avoid unnecessary retracing. For (3), please refer to https://www.tensorflow.org/guide/function#controlling_retracing and https://www.tensorflow.org/api_docs/python/tf/function for  more details.\n",
      "WARNING:tensorflow:6 out of the last 11 calls to <function Model.make_predict_function.<locals>.predict_function at 0x000001E3AFFC60D0> triggered tf.function retracing. Tracing is expensive and the excessive number of tracings could be due to (1) creating @tf.function repeatedly in a loop, (2) passing tensors with different shapes, (3) passing Python objects instead of tensors. For (1), please define your @tf.function outside of the loop. For (2), @tf.function has experimental_relax_shapes=True option that relaxes argument shapes that can avoid unnecessary retracing. For (3), please refer to https://www.tensorflow.org/guide/function#controlling_retracing and https://www.tensorflow.org/api_docs/python/tf/function for  more details.\n",
      "WARNING:tensorflow:6 out of the last 11 calls to <function Model.make_predict_function.<locals>.predict_function at 0x000001E1FC825DC0> triggered tf.function retracing. Tracing is expensive and the excessive number of tracings could be due to (1) creating @tf.function repeatedly in a loop, (2) passing tensors with different shapes, (3) passing Python objects instead of tensors. For (1), please define your @tf.function outside of the loop. For (2), @tf.function has experimental_relax_shapes=True option that relaxes argument shapes that can avoid unnecessary retracing. For (3), please refer to https://www.tensorflow.org/guide/function#controlling_retracing and https://www.tensorflow.org/api_docs/python/tf/function for  more details.\n",
      "WARNING:tensorflow:6 out of the last 11 calls to <function Model.make_predict_function.<locals>.predict_function at 0x000001E3AFFC6700> triggered tf.function retracing. Tracing is expensive and the excessive number of tracings could be due to (1) creating @tf.function repeatedly in a loop, (2) passing tensors with different shapes, (3) passing Python objects instead of tensors. For (1), please define your @tf.function outside of the loop. For (2), @tf.function has experimental_relax_shapes=True option that relaxes argument shapes that can avoid unnecessary retracing. For (3), please refer to https://www.tensorflow.org/guide/function#controlling_retracing and https://www.tensorflow.org/api_docs/python/tf/function for  more details.\n",
      "WARNING:tensorflow:6 out of the last 11 calls to <function Model.make_predict_function.<locals>.predict_function at 0x000001E3B0004430> triggered tf.function retracing. Tracing is expensive and the excessive number of tracings could be due to (1) creating @tf.function repeatedly in a loop, (2) passing tensors with different shapes, (3) passing Python objects instead of tensors. For (1), please define your @tf.function outside of the loop. For (2), @tf.function has experimental_relax_shapes=True option that relaxes argument shapes that can avoid unnecessary retracing. For (3), please refer to https://www.tensorflow.org/guide/function#controlling_retracing and https://www.tensorflow.org/api_docs/python/tf/function for  more details.\n",
      "WARNING:tensorflow:6 out of the last 11 calls to <function Model.make_predict_function.<locals>.predict_function at 0x000001E3B1F9C160> triggered tf.function retracing. Tracing is expensive and the excessive number of tracings could be due to (1) creating @tf.function repeatedly in a loop, (2) passing tensors with different shapes, (3) passing Python objects instead of tensors. For (1), please define your @tf.function outside of the loop. For (2), @tf.function has experimental_relax_shapes=True option that relaxes argument shapes that can avoid unnecessary retracing. For (3), please refer to https://www.tensorflow.org/guide/function#controlling_retracing and https://www.tensorflow.org/api_docs/python/tf/function for  more details.\n",
      "WARNING:tensorflow:6 out of the last 11 calls to <function Model.make_predict_function.<locals>.predict_function at 0x000001E3A2EF9C10> triggered tf.function retracing. Tracing is expensive and the excessive number of tracings could be due to (1) creating @tf.function repeatedly in a loop, (2) passing tensors with different shapes, (3) passing Python objects instead of tensors. For (1), please define your @tf.function outside of the loop. For (2), @tf.function has experimental_relax_shapes=True option that relaxes argument shapes that can avoid unnecessary retracing. For (3), please refer to https://www.tensorflow.org/guide/function#controlling_retracing and https://www.tensorflow.org/api_docs/python/tf/function for  more details.\n",
      "WARNING:tensorflow:6 out of the last 11 calls to <function Model.make_predict_function.<locals>.predict_function at 0x000001E3B1F9CCA0> triggered tf.function retracing. Tracing is expensive and the excessive number of tracings could be due to (1) creating @tf.function repeatedly in a loop, (2) passing tensors with different shapes, (3) passing Python objects instead of tensors. For (1), please define your @tf.function outside of the loop. For (2), @tf.function has experimental_relax_shapes=True option that relaxes argument shapes that can avoid unnecessary retracing. For (3), please refer to https://www.tensorflow.org/guide/function#controlling_retracing and https://www.tensorflow.org/api_docs/python/tf/function for  more details.\n",
      "WARNING:tensorflow:6 out of the last 11 calls to <function Model.make_predict_function.<locals>.predict_function at 0x000001E3B7589310> triggered tf.function retracing. Tracing is expensive and the excessive number of tracings could be due to (1) creating @tf.function repeatedly in a loop, (2) passing tensors with different shapes, (3) passing Python objects instead of tensors. For (1), please define your @tf.function outside of the loop. For (2), @tf.function has experimental_relax_shapes=True option that relaxes argument shapes that can avoid unnecessary retracing. For (3), please refer to https://www.tensorflow.org/guide/function#controlling_retracing and https://www.tensorflow.org/api_docs/python/tf/function for  more details.\n",
      "WARNING:tensorflow:6 out of the last 11 calls to <function Model.make_predict_function.<locals>.predict_function at 0x000001E3BDB851F0> triggered tf.function retracing. Tracing is expensive and the excessive number of tracings could be due to (1) creating @tf.function repeatedly in a loop, (2) passing tensors with different shapes, (3) passing Python objects instead of tensors. For (1), please define your @tf.function outside of the loop. For (2), @tf.function has experimental_relax_shapes=True option that relaxes argument shapes that can avoid unnecessary retracing. For (3), please refer to https://www.tensorflow.org/guide/function#controlling_retracing and https://www.tensorflow.org/api_docs/python/tf/function for  more details.\n",
      "WARNING:tensorflow:6 out of the last 11 calls to <function Model.make_predict_function.<locals>.predict_function at 0x000001E3AB5234C0> triggered tf.function retracing. Tracing is expensive and the excessive number of tracings could be due to (1) creating @tf.function repeatedly in a loop, (2) passing tensors with different shapes, (3) passing Python objects instead of tensors. For (1), please define your @tf.function outside of the loop. For (2), @tf.function has experimental_relax_shapes=True option that relaxes argument shapes that can avoid unnecessary retracing. For (3), please refer to https://www.tensorflow.org/guide/function#controlling_retracing and https://www.tensorflow.org/api_docs/python/tf/function for  more details.\n",
      "WARNING:tensorflow:6 out of the last 11 calls to <function Model.make_predict_function.<locals>.predict_function at 0x000001E3BDB850D0> triggered tf.function retracing. Tracing is expensive and the excessive number of tracings could be due to (1) creating @tf.function repeatedly in a loop, (2) passing tensors with different shapes, (3) passing Python objects instead of tensors. For (1), please define your @tf.function outside of the loop. For (2), @tf.function has experimental_relax_shapes=True option that relaxes argument shapes that can avoid unnecessary retracing. For (3), please refer to https://www.tensorflow.org/guide/function#controlling_retracing and https://www.tensorflow.org/api_docs/python/tf/function for  more details.\n",
      "WARNING:tensorflow:6 out of the last 11 calls to <function Model.make_predict_function.<locals>.predict_function at 0x000001E3BDB85280> triggered tf.function retracing. Tracing is expensive and the excessive number of tracings could be due to (1) creating @tf.function repeatedly in a loop, (2) passing tensors with different shapes, (3) passing Python objects instead of tensors. For (1), please define your @tf.function outside of the loop. For (2), @tf.function has experimental_relax_shapes=True option that relaxes argument shapes that can avoid unnecessary retracing. For (3), please refer to https://www.tensorflow.org/guide/function#controlling_retracing and https://www.tensorflow.org/api_docs/python/tf/function for  more details.\n",
      "WARNING:tensorflow:5 out of the last 7846 calls to <function Model.make_predict_function.<locals>.predict_function at 0x000001E3A2F413A0> triggered tf.function retracing. Tracing is expensive and the excessive number of tracings could be due to (1) creating @tf.function repeatedly in a loop, (2) passing tensors with different shapes, (3) passing Python objects instead of tensors. For (1), please define your @tf.function outside of the loop. For (2), @tf.function has experimental_relax_shapes=True option that relaxes argument shapes that can avoid unnecessary retracing. For (3), please refer to https://www.tensorflow.org/guide/function#controlling_retracing and https://www.tensorflow.org/api_docs/python/tf/function for  more details.\n",
      "WARNING:tensorflow:6 out of the last 7847 calls to <function Model.make_predict_function.<locals>.predict_function at 0x000001E3A2F411F0> triggered tf.function retracing. Tracing is expensive and the excessive number of tracings could be due to (1) creating @tf.function repeatedly in a loop, (2) passing tensors with different shapes, (3) passing Python objects instead of tensors. For (1), please define your @tf.function outside of the loop. For (2), @tf.function has experimental_relax_shapes=True option that relaxes argument shapes that can avoid unnecessary retracing. For (3), please refer to https://www.tensorflow.org/guide/function#controlling_retracing and https://www.tensorflow.org/api_docs/python/tf/function for  more details.\n",
      "WARNING:tensorflow:7 out of the last 7848 calls to <function Model.make_predict_function.<locals>.predict_function at 0x000001E3A0405310> triggered tf.function retracing. Tracing is expensive and the excessive number of tracings could be due to (1) creating @tf.function repeatedly in a loop, (2) passing tensors with different shapes, (3) passing Python objects instead of tensors. For (1), please define your @tf.function outside of the loop. For (2), @tf.function has experimental_relax_shapes=True option that relaxes argument shapes that can avoid unnecessary retracing. For (3), please refer to https://www.tensorflow.org/guide/function#controlling_retracing and https://www.tensorflow.org/api_docs/python/tf/function for  more details.\n",
      "WARNING:tensorflow:8 out of the last 7849 calls to <function Model.make_predict_function.<locals>.predict_function at 0x000001E3A2F88700> triggered tf.function retracing. Tracing is expensive and the excessive number of tracings could be due to (1) creating @tf.function repeatedly in a loop, (2) passing tensors with different shapes, (3) passing Python objects instead of tensors. For (1), please define your @tf.function outside of the loop. For (2), @tf.function has experimental_relax_shapes=True option that relaxes argument shapes that can avoid unnecessary retracing. For (3), please refer to https://www.tensorflow.org/guide/function#controlling_retracing and https://www.tensorflow.org/api_docs/python/tf/function for  more details.\n",
      "WARNING:tensorflow:9 out of the last 7850 calls to <function Model.make_predict_function.<locals>.predict_function at 0x000001E3AB523280> triggered tf.function retracing. Tracing is expensive and the excessive number of tracings could be due to (1) creating @tf.function repeatedly in a loop, (2) passing tensors with different shapes, (3) passing Python objects instead of tensors. For (1), please define your @tf.function outside of the loop. For (2), @tf.function has experimental_relax_shapes=True option that relaxes argument shapes that can avoid unnecessary retracing. For (3), please refer to https://www.tensorflow.org/guide/function#controlling_retracing and https://www.tensorflow.org/api_docs/python/tf/function for  more details.\n",
      "WARNING:tensorflow:10 out of the last 7851 calls to <function Model.make_predict_function.<locals>.predict_function at 0x000001E3AFFC60D0> triggered tf.function retracing. Tracing is expensive and the excessive number of tracings could be due to (1) creating @tf.function repeatedly in a loop, (2) passing tensors with different shapes, (3) passing Python objects instead of tensors. For (1), please define your @tf.function outside of the loop. For (2), @tf.function has experimental_relax_shapes=True option that relaxes argument shapes that can avoid unnecessary retracing. For (3), please refer to https://www.tensorflow.org/guide/function#controlling_retracing and https://www.tensorflow.org/api_docs/python/tf/function for  more details.\n",
      "WARNING:tensorflow:11 out of the last 7852 calls to <function Model.make_predict_function.<locals>.predict_function at 0x000001E1FC825DC0> triggered tf.function retracing. Tracing is expensive and the excessive number of tracings could be due to (1) creating @tf.function repeatedly in a loop, (2) passing tensors with different shapes, (3) passing Python objects instead of tensors. For (1), please define your @tf.function outside of the loop. For (2), @tf.function has experimental_relax_shapes=True option that relaxes argument shapes that can avoid unnecessary retracing. For (3), please refer to https://www.tensorflow.org/guide/function#controlling_retracing and https://www.tensorflow.org/api_docs/python/tf/function for  more details.\n",
      "WARNING:tensorflow:11 out of the last 11 calls to <function Model.make_predict_function.<locals>.predict_function at 0x000001E3AFFC6700> triggered tf.function retracing. Tracing is expensive and the excessive number of tracings could be due to (1) creating @tf.function repeatedly in a loop, (2) passing tensors with different shapes, (3) passing Python objects instead of tensors. For (1), please define your @tf.function outside of the loop. For (2), @tf.function has experimental_relax_shapes=True option that relaxes argument shapes that can avoid unnecessary retracing. For (3), please refer to https://www.tensorflow.org/guide/function#controlling_retracing and https://www.tensorflow.org/api_docs/python/tf/function for  more details.\n",
      "WARNING:tensorflow:11 out of the last 11 calls to <function Model.make_predict_function.<locals>.predict_function at 0x000001E3B0004430> triggered tf.function retracing. Tracing is expensive and the excessive number of tracings could be due to (1) creating @tf.function repeatedly in a loop, (2) passing tensors with different shapes, (3) passing Python objects instead of tensors. For (1), please define your @tf.function outside of the loop. For (2), @tf.function has experimental_relax_shapes=True option that relaxes argument shapes that can avoid unnecessary retracing. For (3), please refer to https://www.tensorflow.org/guide/function#controlling_retracing and https://www.tensorflow.org/api_docs/python/tf/function for  more details.\n",
      "WARNING:tensorflow:11 out of the last 11 calls to <function Model.make_predict_function.<locals>.predict_function at 0x000001E3B1F9C160> triggered tf.function retracing. Tracing is expensive and the excessive number of tracings could be due to (1) creating @tf.function repeatedly in a loop, (2) passing tensors with different shapes, (3) passing Python objects instead of tensors. For (1), please define your @tf.function outside of the loop. For (2), @tf.function has experimental_relax_shapes=True option that relaxes argument shapes that can avoid unnecessary retracing. For (3), please refer to https://www.tensorflow.org/guide/function#controlling_retracing and https://www.tensorflow.org/api_docs/python/tf/function for  more details.\n",
      "WARNING:tensorflow:11 out of the last 11 calls to <function Model.make_predict_function.<locals>.predict_function at 0x000001E3A2EF9C10> triggered tf.function retracing. Tracing is expensive and the excessive number of tracings could be due to (1) creating @tf.function repeatedly in a loop, (2) passing tensors with different shapes, (3) passing Python objects instead of tensors. For (1), please define your @tf.function outside of the loop. For (2), @tf.function has experimental_relax_shapes=True option that relaxes argument shapes that can avoid unnecessary retracing. For (3), please refer to https://www.tensorflow.org/guide/function#controlling_retracing and https://www.tensorflow.org/api_docs/python/tf/function for  more details.\n",
      "WARNING:tensorflow:11 out of the last 11 calls to <function Model.make_predict_function.<locals>.predict_function at 0x000001E3B1F9CCA0> triggered tf.function retracing. Tracing is expensive and the excessive number of tracings could be due to (1) creating @tf.function repeatedly in a loop, (2) passing tensors with different shapes, (3) passing Python objects instead of tensors. For (1), please define your @tf.function outside of the loop. For (2), @tf.function has experimental_relax_shapes=True option that relaxes argument shapes that can avoid unnecessary retracing. For (3), please refer to https://www.tensorflow.org/guide/function#controlling_retracing and https://www.tensorflow.org/api_docs/python/tf/function for  more details.\n",
      "WARNING:tensorflow:11 out of the last 11 calls to <function Model.make_predict_function.<locals>.predict_function at 0x000001E3B7589310> triggered tf.function retracing. Tracing is expensive and the excessive number of tracings could be due to (1) creating @tf.function repeatedly in a loop, (2) passing tensors with different shapes, (3) passing Python objects instead of tensors. For (1), please define your @tf.function outside of the loop. For (2), @tf.function has experimental_relax_shapes=True option that relaxes argument shapes that can avoid unnecessary retracing. For (3), please refer to https://www.tensorflow.org/guide/function#controlling_retracing and https://www.tensorflow.org/api_docs/python/tf/function for  more details.\n",
      "WARNING:tensorflow:11 out of the last 11 calls to <function Model.make_predict_function.<locals>.predict_function at 0x000001E3BDB851F0> triggered tf.function retracing. Tracing is expensive and the excessive number of tracings could be due to (1) creating @tf.function repeatedly in a loop, (2) passing tensors with different shapes, (3) passing Python objects instead of tensors. For (1), please define your @tf.function outside of the loop. For (2), @tf.function has experimental_relax_shapes=True option that relaxes argument shapes that can avoid unnecessary retracing. For (3), please refer to https://www.tensorflow.org/guide/function#controlling_retracing and https://www.tensorflow.org/api_docs/python/tf/function for  more details.\n",
      "WARNING:tensorflow:11 out of the last 11 calls to <function Model.make_predict_function.<locals>.predict_function at 0x000001E3AB5234C0> triggered tf.function retracing. Tracing is expensive and the excessive number of tracings could be due to (1) creating @tf.function repeatedly in a loop, (2) passing tensors with different shapes, (3) passing Python objects instead of tensors. For (1), please define your @tf.function outside of the loop. For (2), @tf.function has experimental_relax_shapes=True option that relaxes argument shapes that can avoid unnecessary retracing. For (3), please refer to https://www.tensorflow.org/guide/function#controlling_retracing and https://www.tensorflow.org/api_docs/python/tf/function for  more details.\n",
      "WARNING:tensorflow:11 out of the last 11 calls to <function Model.make_predict_function.<locals>.predict_function at 0x000001E3BDB850D0> triggered tf.function retracing. Tracing is expensive and the excessive number of tracings could be due to (1) creating @tf.function repeatedly in a loop, (2) passing tensors with different shapes, (3) passing Python objects instead of tensors. For (1), please define your @tf.function outside of the loop. For (2), @tf.function has experimental_relax_shapes=True option that relaxes argument shapes that can avoid unnecessary retracing. For (3), please refer to https://www.tensorflow.org/guide/function#controlling_retracing and https://www.tensorflow.org/api_docs/python/tf/function for  more details.\n",
      "WARNING:tensorflow:11 out of the last 11 calls to <function Model.make_predict_function.<locals>.predict_function at 0x000001E3BDB85280> triggered tf.function retracing. Tracing is expensive and the excessive number of tracings could be due to (1) creating @tf.function repeatedly in a loop, (2) passing tensors with different shapes, (3) passing Python objects instead of tensors. For (1), please define your @tf.function outside of the loop. For (2), @tf.function has experimental_relax_shapes=True option that relaxes argument shapes that can avoid unnecessary retracing. For (3), please refer to https://www.tensorflow.org/guide/function#controlling_retracing and https://www.tensorflow.org/api_docs/python/tf/function for  more details.\n"
     ]
    }
   ],
   "source": [
    "labels_V0, logits_V0, preds_V0 = get_labels_logits_and_preds(models_V0, NUM_MODELS)\n",
    "class_preds_V0 = get_class_preds(preds_V0, NUM_MODELS)\n",
    "class_logits_V0 = get_class_from_sum_of_logits(logits_V0, NUM_MODELS)"
   ]
  },
  {
   "cell_type": "markdown",
   "metadata": {},
   "source": [
    "### Build list of inputs and labels for test class"
   ]
  },
  {
   "cell_type": "code",
   "execution_count": 5,
   "metadata": {},
   "outputs": [],
   "source": [
    "test_logits_preds = []\n",
    "\n",
    "for i in range(test_dataset_length):\n",
    "    \n",
    "    aux = []   \n",
    "    for m in range(NUM_MODELS):        \n",
    "        aux.extend(logits_V0[m][i])\n",
    "        \n",
    "    test_logits_preds.append(aux)"
   ]
  },
  {
   "cell_type": "markdown",
   "metadata": {},
   "source": [
    "### Compute logit predictions and training labels"
   ]
  },
  {
   "cell_type": "code",
   "execution_count": 6,
   "metadata": {},
   "outputs": [
    {
     "name": "stdout",
     "output_type": "stream",
     "text": [
      "4901/4902"
     ]
    }
   ],
   "source": [
    "dataSolo_len = len(dataSolo.take(-1))\n",
    "j=0\n",
    "\n",
    "logits_train = [[] for _ in range(NUM_MODELS)]\n",
    "labels_aux = []\n",
    "for images, labs in dataSolo.take(dataSolo_len):\n",
    "\n",
    "    #Printing progress\n",
    "    print('\\r' + f'{j}/{dataSolo_len}',end=\"\")\n",
    "    j+=1\n",
    "    \n",
    "    labels_aux.extend(labs.numpy())\n",
    "    for i in range(NUM_MODELS):\n",
    "        \n",
    "        logits_train[i].extend(models_V0[i][1].predict(images))\n",
    "        \n",
    "labels_train = [np.argmax(i) for i in labels_aux]  "
   ]
  },
  {
   "cell_type": "markdown",
   "metadata": {},
   "source": [
    "### Build list of train inputs"
   ]
  },
  {
   "cell_type": "code",
   "execution_count": 7,
   "metadata": {},
   "outputs": [],
   "source": [
    "train_logits_preds = []\n",
    "\n",
    "for i in range(dataSolo_size):\n",
    "    \n",
    "    aux = []\n",
    "    \n",
    "    for m in range(NUM_MODELS):\n",
    "        \n",
    "        aux.extend(logits_train[m][i])\n",
    "        \n",
    "    train_logits_preds.append(aux)"
   ]
  },
  {
   "cell_type": "code",
   "execution_count": 8,
   "metadata": {},
   "outputs": [
    {
     "name": "stdout",
     "output_type": "stream",
     "text": [
      "313672 313672 430\n"
     ]
    }
   ],
   "source": [
    "print(len(labels_train), len(train_logits_preds), len(train_logits_preds[0]))"
   ]
  },
  {
   "cell_type": "code",
   "execution_count": 11,
   "metadata": {},
   "outputs": [],
   "source": [
    "\n",
    "stack_model  = tf.keras.models.Sequential([\n",
    "  tf.keras.layers.Flatten(input_shape=(len(train_logits_preds[0]),)),\n",
    "\n",
    "  tf.keras.layers.Dense(256),    \n",
    "  BatchNormalization(),LeakyReLU(alpha=0.01),\n",
    "  tf.keras.layers.Dropout(0.4),\n",
    "  tf.keras.layers.Dense(128),    \n",
    "  BatchNormalization(),LeakyReLU(alpha=0.01),\n",
    "  tf.keras.layers.Dropout(0.4),\n",
    "  tf.keras.layers.Dense(64),    \n",
    "  BatchNormalization(),LeakyReLU(alpha=0.01),\n",
    "  tf.keras.layers.Dropout(0.4),\n",
    "\n",
    "  tf.keras.layers.Dense(43, activation='softmax')\n",
    "])"
   ]
  },
  {
   "cell_type": "code",
   "execution_count": 12,
   "metadata": {},
   "outputs": [],
   "source": [
    "stack_model.compile(optimizer=tf.keras.optimizers.Adam(learning_rate=0.0001), loss='sparse_categorical_crossentropy',metrics=['accuracy'])\n",
    "\n",
    "file_pathV7 = './Networks/ensembles/V2/stacked_V2/StackedMassiveDataAug.ckpt'\n",
    "\n",
    "callbacksV7 = prepare_callbacks(file_pathV7)"
   ]
  },
  {
   "cell_type": "code",
   "execution_count": 13,
   "metadata": {},
   "outputs": [
    {
     "name": "stdout",
     "output_type": "stream",
     "text": [
      "313672 313672 313672\n"
     ]
    }
   ],
   "source": [
    "print(len(labels_train), len(train_logits_preds), len(logits_train[0]))"
   ]
  },
  {
   "cell_type": "code",
   "execution_count": 14,
   "metadata": {},
   "outputs": [
    {
     "name": "stdout",
     "output_type": "stream",
     "text": [
      "Epoch 1/20\n",
      "4902/4902 [==============================] - 35s 7ms/step - loss: 1.6619 - accuracy: 0.6355 - val_loss: 0.0712 - val_accuracy: 0.9918\n",
      "\n",
      "Epoch 00001: val_accuracy improved from -inf to 0.99184, saving model to ./Networks/ensembles/V2/stacked_V2\\StackedMassiveDataAug.ckpt\n",
      "Epoch 2/20\n",
      "4902/4902 [==============================] - 34s 7ms/step - loss: 0.2490 - accuracy: 0.9475 - val_loss: 0.0274 - val_accuracy: 0.9946\n",
      "\n",
      "Epoch 00002: val_accuracy improved from 0.99184 to 0.99462, saving model to ./Networks/ensembles/V2/stacked_V2\\StackedMassiveDataAug.ckpt\n",
      "Epoch 3/20\n",
      "4902/4902 [==============================] - 34s 7ms/step - loss: 0.1341 - accuracy: 0.9692 - val_loss: 0.0222 - val_accuracy: 0.9945\n",
      "\n",
      "Epoch 00003: val_accuracy did not improve from 0.99462\n",
      "Epoch 4/20\n",
      "4902/4902 [==============================] - 33s 7ms/step - loss: 0.0991 - accuracy: 0.9759 - val_loss: 0.0220 - val_accuracy: 0.9942\n",
      "\n",
      "Epoch 00004: val_accuracy did not improve from 0.99462\n",
      "Epoch 5/20\n",
      "4902/4902 [==============================] - 33s 7ms/step - loss: 0.0809 - accuracy: 0.9796 - val_loss: 0.0215 - val_accuracy: 0.9938\n",
      "\n",
      "Epoch 00005: val_accuracy did not improve from 0.99462\n",
      "Epoch 6/20\n",
      "4902/4902 [==============================] - 33s 7ms/step - loss: 0.0719 - accuracy: 0.9819 - val_loss: 0.0214 - val_accuracy: 0.9945\n",
      "\n",
      "Epoch 00006: val_accuracy did not improve from 0.99462\n",
      "Epoch 7/20\n",
      "4902/4902 [==============================] - 33s 7ms/step - loss: 0.0638 - accuracy: 0.9838 - val_loss: 0.0219 - val_accuracy: 0.9942\n",
      "\n",
      "Epoch 00007: val_accuracy did not improve from 0.99462\n",
      "Epoch 8/20\n",
      "4902/4902 [==============================] - 34s 7ms/step - loss: 0.0587 - accuracy: 0.9850 - val_loss: 0.0214 - val_accuracy: 0.9942\n",
      "\n",
      "Epoch 00008: val_accuracy did not improve from 0.99462\n",
      "Epoch 9/20\n",
      "4902/4902 [==============================] - 33s 7ms/step - loss: 0.0545 - accuracy: 0.9860 - val_loss: 0.0223 - val_accuracy: 0.9945\n",
      "\n",
      "Epoch 00009: val_accuracy did not improve from 0.99462\n",
      "Epoch 10/20\n",
      "4902/4902 [==============================] - 33s 7ms/step - loss: 0.0524 - accuracy: 0.9864 - val_loss: 0.0208 - val_accuracy: 0.9949\n",
      "\n",
      "Epoch 00010: val_accuracy improved from 0.99462 to 0.99493, saving model to ./Networks/ensembles/V2/stacked_V2\\StackedMassiveDataAug.ckpt\n",
      "Epoch 11/20\n",
      "4902/4902 [==============================] - 34s 7ms/step - loss: 0.0484 - accuracy: 0.9873 - val_loss: 0.0233 - val_accuracy: 0.9930\n",
      "\n",
      "Epoch 00011: val_accuracy did not improve from 0.99493\n",
      "Epoch 12/20\n",
      "4902/4902 [==============================] - 33s 7ms/step - loss: 0.0477 - accuracy: 0.9875 - val_loss: 0.0218 - val_accuracy: 0.9938\n",
      "\n",
      "Epoch 00012: val_accuracy did not improve from 0.99493\n",
      "Epoch 13/20\n",
      "4902/4902 [==============================] - 33s 7ms/step - loss: 0.0449 - accuracy: 0.9882 - val_loss: 0.0227 - val_accuracy: 0.9939\n",
      "\n",
      "Epoch 00013: val_accuracy did not improve from 0.99493\n",
      "Epoch 14/20\n",
      "4902/4902 [==============================] - 34s 7ms/step - loss: 0.0435 - accuracy: 0.9884 - val_loss: 0.0240 - val_accuracy: 0.9930\n",
      "\n",
      "Epoch 00014: val_accuracy did not improve from 0.99493\n",
      "Epoch 15/20\n",
      "4902/4902 [==============================] - 33s 7ms/step - loss: 0.0422 - accuracy: 0.9886 - val_loss: 0.0199 - val_accuracy: 0.9941\n",
      "\n",
      "Epoch 00015: val_accuracy did not improve from 0.99493\n",
      "Epoch 16/20\n",
      "4902/4902 [==============================] - 33s 7ms/step - loss: 0.0423 - accuracy: 0.9887 - val_loss: 0.0222 - val_accuracy: 0.9941\n",
      "\n",
      "Epoch 00016: val_accuracy did not improve from 0.99493\n",
      "Epoch 17/20\n",
      "4902/4902 [==============================] - 33s 7ms/step - loss: 0.0394 - accuracy: 0.9897 - val_loss: 0.0210 - val_accuracy: 0.9940\n",
      "\n",
      "Epoch 00017: val_accuracy did not improve from 0.99493\n",
      "Epoch 18/20\n",
      "4902/4902 [==============================] - 33s 7ms/step - loss: 0.0395 - accuracy: 0.9892 - val_loss: 0.0229 - val_accuracy: 0.9945\n",
      "\n",
      "Epoch 00018: val_accuracy did not improve from 0.99493\n",
      "Epoch 19/20\n",
      "4902/4902 [==============================] - 34s 7ms/step - loss: 0.0386 - accuracy: 0.9895 - val_loss: 0.0231 - val_accuracy: 0.9937\n",
      "\n",
      "Epoch 00019: val_accuracy did not improve from 0.99493\n",
      "Epoch 20/20\n",
      "4902/4902 [==============================] - 33s 7ms/step - loss: 0.0371 - accuracy: 0.9896 - val_loss: 0.0242 - val_accuracy: 0.9935\n",
      "\n",
      "Epoch 00020: val_accuracy did not improve from 0.99493\n",
      "\n",
      "Epoch 00020: ReduceLROnPlateau reducing learning rate to 4.999999873689376e-05.\n",
      "Epoch 00020: early stopping\n"
     ]
    },
    {
     "data": {
      "text/plain": [
       "<tensorflow.python.keras.callbacks.History at 0x25a951e2280>"
      ]
     },
     "execution_count": 14,
     "metadata": {},
     "output_type": "execute_result"
    }
   ],
   "source": [
    "stack_model.fit(np.asarray(train_logits_preds),np.asarray(labels_train),epochs=20, batch_size=BATCH_SIZE,\n",
    "                        validation_data = (np.asarray(test_logits_preds), np.asarray(labels_V0)), callbacks = callbacksV7)"
   ]
  },
  {
   "cell_type": "code",
   "execution_count": 15,
   "metadata": {},
   "outputs": [
    {
     "data": {
      "text/plain": [
       "<tensorflow.python.training.tracking.util.CheckpointLoadStatus at 0x25a94ec5220>"
      ]
     },
     "execution_count": 15,
     "metadata": {},
     "output_type": "execute_result"
    }
   ],
   "source": [
    "stack_model.load_weights(file_pathV7)"
   ]
  },
  {
   "cell_type": "code",
   "execution_count": 16,
   "metadata": {},
   "outputs": [
    {
     "name": "stdout",
     "output_type": "stream",
     "text": [
      "12566 0.9949326999208234\n"
     ]
    }
   ],
   "source": [
    "pred = stack_model.predict(np.asarray(test_logits_preds))\n",
    "\n",
    "correct = 0\n",
    "\n",
    "for i in range(test_dataset_length):\n",
    "    if np.argmax(pred[i]) == labels_V0[i] :\n",
    "        correct += 1\n",
    "        \n",
    "print(correct, correct/test_dataset_length)"
   ]
  }
 ],
 "metadata": {
  "interpreter": {
   "hash": "d0da461f411a8ab525eeaf0c070efcfd41d80a0fa07fe716f6def51d18e38691"
  },
  "kernelspec": {
   "display_name": "Python 3.8.0 ('tf_gpu')",
   "language": "python",
   "name": "python3"
  },
  "language_info": {
   "codemirror_mode": {
    "name": "ipython",
    "version": 3
   },
   "file_extension": ".py",
   "mimetype": "text/x-python",
   "name": "python",
   "nbconvert_exporter": "python",
   "pygments_lexer": "ipython3",
   "version": "3.8.0"
  },
  "orig_nbformat": 4
 },
 "nbformat": 4,
 "nbformat_minor": 2
}
