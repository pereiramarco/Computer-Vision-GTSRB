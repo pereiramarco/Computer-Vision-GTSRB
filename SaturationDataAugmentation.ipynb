{
 "cells": [
  {
   "cell_type": "markdown",
   "metadata": {},
   "source": [
    "# Version IV - saturation data augmentation"
   ]
  },
  {
   "cell_type": "markdown",
   "metadata": {},
   "source": [
    "### Imports and initial setup"
   ]
  },
  {
   "cell_type": "code",
   "execution_count": 1,
   "metadata": {},
   "outputs": [
    {
     "name": "stdout",
     "output_type": "stream",
     "text": [
      "importing Jupyter notebook from InitialSetup.ipynb\n",
      "Num GPUs Available:  1\n",
      "Total images in validatation dataset:  12630\n",
      "(32, 32, 3) (43,)\n",
      "Total images in dataset:  39209\n"
     ]
    }
   ],
   "source": [
    "import import_ipynb\n",
    "\n",
    "from InitialSetup import dataset, BATCH_SIZE, tf, prepare_callbacks, model_VI, show_history, test_dataset, AUTOTUNE, process_saturation"
   ]
  },
  {
   "cell_type": "code",
   "execution_count": 2,
   "metadata": {},
   "outputs": [],
   "source": [
    "dataSoloV4 = dataset\n",
    "dataSoloV4 = dataSoloV4.concatenate(dataSoloV4.map(process_saturation))\n",
    "\n",
    "dataSoloV4_size = tf.data.experimental.cardinality(dataSoloV4).numpy()\n",
    "\n",
    "dataSoloV4 = dataSoloV4.cache()\n",
    "dataSoloV4 = dataSoloV4.shuffle(buffer_size = dataSoloV4_size)\n",
    "dataSoloV4 = dataSoloV4.batch(batch_size = BATCH_SIZE)\n",
    "dataSoloV4 = dataSoloV4.prefetch(buffer_size = AUTOTUNE)\n",
    "dataSoloV4 = dataSoloV4.repeat()\n",
    "\n",
    "train_size = int(0.8* dataSoloV4_size)\n",
    "val_size = int(0.2* dataSoloV4_size)\n",
    "\n",
    "train_dataset = dataSoloV4.take(train_size)\n",
    "val_dataset = dataSoloV4.skip(train_size)"
   ]
  },
  {
   "cell_type": "markdown",
   "metadata": {},
   "source": [
    "### Setup model and save place"
   ]
  },
  {
   "cell_type": "code",
   "execution_count": 3,
   "metadata": {},
   "outputs": [],
   "source": [
    "modelV4 = model_VI(43, 32, 3)\n",
    "\n",
    "file_pathV4 = './Networks/SaturationDataAugmentation.ckpt'\n",
    "\n",
    "callbacksV4 = prepare_callbacks(file_pathV4)"
   ]
  },
  {
   "cell_type": "markdown",
   "metadata": {},
   "source": [
    "### Train model"
   ]
  },
  {
   "cell_type": "code",
   "execution_count": 4,
   "metadata": {
    "tags": []
   },
   "outputs": [
    {
     "name": "stdout",
     "output_type": "stream",
     "text": [
      "Epoch 1/20\n",
      "980/980 [==============================] - 47s 30ms/step - loss: 2.7440 - accuracy: 0.3167 - val_loss: 0.2644 - val_accuracy: 0.9287\n",
      "\n",
      "Epoch 00001: val_accuracy improved from -inf to 0.92867, saving model to ./Networks\\SaturationDataAugmentation.ckpt\n",
      "Epoch 2/20\n",
      "980/980 [==============================] - 29s 30ms/step - loss: 0.4321 - accuracy: 0.8690 - val_loss: 0.0539 - val_accuracy: 0.9865\n",
      "\n",
      "Epoch 00002: val_accuracy improved from 0.92867 to 0.98653, saving model to ./Networks\\SaturationDataAugmentation.ckpt\n",
      "Epoch 3/20\n",
      "980/980 [==============================] - 28s 29ms/step - loss: 0.1709 - accuracy: 0.9492 - val_loss: 0.0236 - val_accuracy: 0.9953\n",
      "\n",
      "Epoch 00003: val_accuracy improved from 0.98653 to 0.99530, saving model to ./Networks\\SaturationDataAugmentation.ckpt\n",
      "Epoch 4/20\n",
      "980/980 [==============================] - 28s 29ms/step - loss: 0.0977 - accuracy: 0.9713 - val_loss: 0.0108 - val_accuracy: 0.9977\n",
      "\n",
      "Epoch 00004: val_accuracy improved from 0.99530 to 0.99771, saving model to ./Networks\\SaturationDataAugmentation.ckpt\n",
      "Epoch 5/20\n",
      "980/980 [==============================] - 28s 29ms/step - loss: 0.0650 - accuracy: 0.9807 - val_loss: 0.0072 - val_accuracy: 0.9992\n",
      "\n",
      "Epoch 00005: val_accuracy improved from 0.99771 to 0.99917, saving model to ./Networks\\SaturationDataAugmentation.ckpt\n",
      "Epoch 6/20\n",
      "980/980 [==============================] - 29s 29ms/step - loss: 0.0429 - accuracy: 0.9873 - val_loss: 0.0054 - val_accuracy: 0.9987\n",
      "\n",
      "Epoch 00006: val_accuracy did not improve from 0.99917\n",
      "Epoch 7/20\n",
      "980/980 [==============================] - 29s 30ms/step - loss: 0.0363 - accuracy: 0.9890 - val_loss: 0.0035 - val_accuracy: 0.9994\n",
      "\n",
      "Epoch 00007: val_accuracy improved from 0.99917 to 0.99943, saving model to ./Networks\\SaturationDataAugmentation.ckpt\n",
      "Epoch 8/20\n",
      "980/980 [==============================] - 28s 29ms/step - loss: 0.0285 - accuracy: 0.9913 - val_loss: 0.0030 - val_accuracy: 0.9996\n",
      "\n",
      "Epoch 00008: val_accuracy improved from 0.99943 to 0.99956, saving model to ./Networks\\SaturationDataAugmentation.ckpt\n",
      "Epoch 9/20\n",
      "980/980 [==============================] - 28s 29ms/step - loss: 0.0203 - accuracy: 0.9939 - val_loss: 0.0031 - val_accuracy: 0.9994\n",
      "\n",
      "Epoch 00009: val_accuracy did not improve from 0.99956\n",
      "Epoch 10/20\n",
      "980/980 [==============================] - 29s 30ms/step - loss: 0.0183 - accuracy: 0.9946 - val_loss: 0.0015 - val_accuracy: 0.9997\n",
      "\n",
      "Epoch 00010: val_accuracy improved from 0.99956 to 0.99975, saving model to ./Networks\\SaturationDataAugmentation.ckpt\n",
      "Epoch 11/20\n",
      "980/980 [==============================] - 29s 30ms/step - loss: 0.0147 - accuracy: 0.9956 - val_loss: 8.3526e-04 - val_accuracy: 1.0000\n",
      "\n",
      "Epoch 00011: val_accuracy improved from 0.99975 to 1.00000, saving model to ./Networks\\SaturationDataAugmentation.ckpt\n",
      "Epoch 12/20\n",
      "980/980 [==============================] - 29s 30ms/step - loss: 0.0128 - accuracy: 0.9960 - val_loss: 0.0026 - val_accuracy: 0.9990\n",
      "\n",
      "Epoch 00012: val_accuracy did not improve from 1.00000\n",
      "Epoch 13/20\n",
      "980/980 [==============================] - 29s 30ms/step - loss: 0.0146 - accuracy: 0.9955 - val_loss: 3.6478e-04 - val_accuracy: 0.9999\n",
      "\n",
      "Epoch 00013: val_accuracy did not improve from 1.00000\n",
      "Epoch 14/20\n",
      "980/980 [==============================] - 28s 29ms/step - loss: 0.0125 - accuracy: 0.9963 - val_loss: 3.1462e-04 - val_accuracy: 1.0000\n",
      "\n",
      "Epoch 00014: val_accuracy did not improve from 1.00000\n",
      "Epoch 15/20\n",
      "980/980 [==============================] - 29s 29ms/step - loss: 0.0095 - accuracy: 0.9973 - val_loss: 2.6865e-04 - val_accuracy: 0.9999\n",
      "\n",
      "Epoch 00015: val_accuracy did not improve from 1.00000\n",
      "Epoch 16/20\n",
      "980/980 [==============================] - 29s 30ms/step - loss: 0.0084 - accuracy: 0.9972 - val_loss: 3.0332e-04 - val_accuracy: 1.0000\n",
      "\n",
      "Epoch 00016: val_accuracy did not improve from 1.00000\n",
      "Epoch 17/20\n",
      "980/980 [==============================] - 29s 30ms/step - loss: 0.0077 - accuracy: 0.9975 - val_loss: 0.0010 - val_accuracy: 0.9997\n",
      "\n",
      "Epoch 00017: val_accuracy did not improve from 1.00000\n",
      "Epoch 18/20\n",
      "980/980 [==============================] - 29s 30ms/step - loss: 0.0076 - accuracy: 0.9976 - val_loss: 1.0232e-04 - val_accuracy: 1.0000\n",
      "\n",
      "Epoch 00018: val_accuracy did not improve from 1.00000\n",
      "Epoch 19/20\n",
      "980/980 [==============================] - 29s 30ms/step - loss: 0.0068 - accuracy: 0.9976 - val_loss: 2.2338e-04 - val_accuracy: 1.0000\n",
      "\n",
      "Epoch 00019: val_accuracy did not improve from 1.00000\n",
      "Epoch 20/20\n",
      "980/980 [==============================] - 29s 30ms/step - loss: 0.0062 - accuracy: 0.9979 - val_loss: 5.5856e-05 - val_accuracy: 1.0000\n",
      "\n",
      "Epoch 00020: val_accuracy did not improve from 1.00000\n"
     ]
    }
   ],
   "source": [
    "historyV4 = modelV4.fit(train_dataset, steps_per_epoch = train_size/BATCH_SIZE,\n",
    "          epochs=20, \n",
    "          validation_data = val_dataset, \n",
    "          validation_steps = val_size/BATCH_SIZE,\n",
    "          callbacks = callbacksV4)"
   ]
  },
  {
   "cell_type": "markdown",
   "metadata": {},
   "source": [
    "### Show the learning history"
   ]
  },
  {
   "cell_type": "code",
   "execution_count": 5,
   "metadata": {},
   "outputs": [
    {
     "name": "stdout",
     "output_type": "stream",
     "text": [
      "dict_keys(['loss', 'accuracy', 'val_loss', 'val_accuracy', 'lr'])\n"
     ]
    },
    {
     "data": {
      "image/png": "[encoded data removed]",
      "text/plain": [
       "<Figure size 432x288 with 1 Axes>"
      ]
     },
     "metadata": {
      "needs_background": "light"
     },
     "output_type": "display_data"
    },
    {
     "data": {
      "image/png": "[encoded data removed]",
      "text/plain": [
       "<Figure size 432x288 with 1 Axes>"
      ]
     },
     "metadata": {
      "needs_background": "light"
     },
     "output_type": "display_data"
    }
   ],
   "source": [
    "show_history(historyV4)"
   ]
  },
  {
   "cell_type": "markdown",
   "metadata": {},
   "source": [
    "### Load weights from file and test with validation and test dataset"
   ]
  },
  {
   "cell_type": "code",
   "execution_count": 6,
   "metadata": {
    "tags": []
   },
   "outputs": [
    {
     "name": "stdout",
     "output_type": "stream",
     "text": [
      "198/198 - 3s - loss: 0.0663 - accuracy: 0.9789\n",
      "245/245 - 10s - loss: 0.0015 - accuracy: 0.9997\n"
     ]
    }
   ],
   "source": [
    "modelV4.load_weights(file_pathV4)\n",
    "\n",
    "evalV4 = modelV4.evaluate(test_dataset, verbose=2)\n",
    "valV4 = modelV4.evaluate(val_dataset, steps=val_size/BATCH_SIZE, verbose=2)"
   ]
  }
 ],
 "metadata": {
  "interpreter": {
   "hash": "d0da461f411a8ab525eeaf0c070efcfd41d80a0fa07fe716f6def51d18e38691"
  },
  "kernelspec": {
   "display_name": "Python 3.8.0 ('tf_gpu')",
   "language": "python",
   "name": "python3"
  },
  "language_info": {
   "codemirror_mode": {
    "name": "ipython",
    "version": 3
   },
   "file_extension": ".py",
   "mimetype": "text/x-python",
   "name": "python",
   "nbconvert_exporter": "python",
   "pygments_lexer": "ipython3",
   "version": "3.8.0"
  },
  "orig_nbformat": 4
 },
 "nbformat": 4,
 "nbformat_minor": 2
}
